{
  "nbformat": 4,
  "nbformat_minor": 0,
  "metadata": {
    "colab": {
      "provenance": []
    },
    "kernelspec": {
      "name": "python3",
      "display_name": "Python 3"
    },
    "language_info": {
      "name": "python"
    }
  },
  "cells": [
    {
      "cell_type": "code",
      "source": [
        "!mkdir -p ~/.kaggle\n",
        "!cp kaggle.json ~/.kaggle/"
      ],
      "metadata": {
        "colab": {
          "base_uri": "https://localhost:8080/"
        },
        "id": "EwSywbIocv04",
        "outputId": "edcc0e46-7ef2-46ba-aed2-5e1e300ef525"
      },
      "execution_count": null,
      "outputs": [
        {
          "output_type": "stream",
          "name": "stdout",
          "text": [
            "cp: cannot stat 'kaggle.json': No such file or directory\n"
          ]
        }
      ]
    },
    {
      "cell_type": "code",
      "execution_count": null,
      "metadata": {
        "colab": {
          "base_uri": "https://localhost:8080/"
        },
        "id": "8HMf95BhQqFN",
        "outputId": "43fd5405-163c-4696-d540-f04d97fcf109"
      },
      "outputs": [
        {
          "output_type": "stream",
          "name": "stdout",
          "text": [
            "Dataset URL: https://www.kaggle.com/datasets/harshwalia/birds-vs-drone-dataset\n",
            "License(s): unknown\n",
            "Downloading birds-vs-drone-dataset.zip to /content\n",
            " 95% 74.0M/78.1M [00:01<00:00, 78.5MB/s]\n",
            "100% 78.1M/78.1M [00:01<00:00, 75.1MB/s]\n"
          ]
        }
      ],
      "source": [
        "!kaggle datasets download -d harshwalia/birds-vs-drone-dataset"
      ]
    },
    {
      "cell_type": "code",
      "source": [
        "import zipfile\n",
        "zip_ref = zipfile.ZipFile('/content/birds-vs-drone-dataset.zip', 'r')\n",
        "zip_ref.extractall('/content')\n",
        "zip_ref.close()"
      ],
      "metadata": {
        "id": "-b5HfXzxc1mO"
      },
      "execution_count": null,
      "outputs": []
    },
    {
      "cell_type": "markdown",
      "source": [
        "**Importing Necessary Packages**"
      ],
      "metadata": {
        "id": "s5Hk3F-2RIqy"
      }
    },
    {
      "cell_type": "code",
      "source": [
        "from sklearn.preprocessing import LabelEncoder\n",
        "from sklearn.svm import LinearSVC\n",
        "from sklearn.metrics import classification_report\n",
        "from sklearn.model_selection import train_test_split\n",
        "from tensorflow.keras.applications.vgg16 import VGG16, preprocess_input\n",
        "from tensorflow.keras.preprocessing.image import img_to_array\n",
        "from tensorflow.keras.models import Model\n",
        "from imutils import paths\n",
        "import numpy as np\n",
        "import imutils\n",
        "import cv2\n",
        "import os\n",
        "import pickle as cPickle\n",
        "from sklearn.svm import SVC\n",
        "from google.colab.patches import cv2_imshow"
      ],
      "metadata": {
        "id": "iUiGon-eRE-b"
      },
      "execution_count": null,
      "outputs": []
    },
    {
      "cell_type": "markdown",
      "source": [
        "**Extracting Histogram of Oriented Gradients Feature**"
      ],
      "metadata": {
        "id": "2YRfdBWCUYoR"
      }
    },
    {
      "cell_type": "code",
      "source": [
        "import os\n",
        "import numpy as np\n",
        "from sklearn.model_selection import train_test_split\n",
        "from sklearn.preprocessing import StandardScaler, LabelEncoder\n",
        "from sklearn import svm\n",
        "from sklearn.metrics import accuracy_score\n",
        "import cv2\n",
        "\n",
        "# Paths to dataset\n",
        "dataset_path = '/content/BirdVsDrone'\n",
        "categories = ['Birds', 'Drones']\n",
        "\n",
        "# Data and labels\n",
        "data = []\n",
        "labels = []\n",
        "\n",
        "# Load images and labels\n",
        "for category in categories:\n",
        "    folder_path = os.path.join(dataset_path, category)\n",
        "    for img_name in os.listdir(folder_path):\n",
        "        img_path = os.path.join(folder_path, img_name)\n",
        "        try:\n",
        "            # Read and resize image\n",
        "            img = cv2.imread(img_path)\n",
        "            img = cv2.resize(img, (64, 64))  # Resize to 64x64\n",
        "            data.append(img)\n",
        "            labels.append(category)\n",
        "        except Exception as e:\n",
        "            print(f\"Error loading image: {img_path}, {e}\")\n",
        "\n",
        "# Convert to numpy arrays\n",
        "data = np.array(data)\n",
        "labels = np.array(labels)\n",
        "\n",
        "# Encode the labels (from strings to integers)\n",
        "label_encoder = LabelEncoder()\n",
        "labels = label_encoder.fit_transform(labels)\n",
        "\n",
        "# Reshape data to 2D (for scaling and SVM input)\n",
        "n_samples, height, width, channels = data.shape\n",
        "data_reshaped = data.reshape(n_samples, -1)  # Reshape to (n_samples, height*width*channels)\n",
        "\n"
      ],
      "metadata": {
        "id": "6Xz1jpeleipA"
      },
      "execution_count": null,
      "outputs": []
    },
    {
      "cell_type": "code",
      "source": [
        "data_reshaped.shape"
      ],
      "metadata": {
        "colab": {
          "base_uri": "https://localhost:8080/"
        },
        "id": "RulBEDOZamS6",
        "outputId": "aff60572-d309-48ec-d7ce-c9649decd599"
      },
      "execution_count": null,
      "outputs": [
        {
          "output_type": "execute_result",
          "data": {
            "text/plain": [
              "(828, 12288)"
            ]
          },
          "metadata": {},
          "execution_count": 6
        }
      ]
    },
    {
      "cell_type": "code",
      "source": [
        "data_reshaped"
      ],
      "metadata": {
        "colab": {
          "base_uri": "https://localhost:8080/"
        },
        "id": "QAPlC7QryQd1",
        "outputId": "a6eaa69e-f91b-49aa-f7d4-4f1a313feaf9"
      },
      "execution_count": null,
      "outputs": [
        {
          "output_type": "execute_result",
          "data": {
            "text/plain": [
              "array([[235, 238, 236, ..., 201, 189, 187],\n",
              "       [107, 108,  88, ..., 162, 164, 144],\n",
              "       [ 83,  39,  15, ...,  34,  34,  34],\n",
              "       ...,\n",
              "       [187, 142, 113, ..., 188, 148, 123],\n",
              "       [250, 174, 126, ...,  31,  40,  58],\n",
              "       [190, 251, 255, ..., 149, 162, 168]], dtype=uint8)"
            ]
          },
          "metadata": {},
          "execution_count": 7
        }
      ]
    },
    {
      "cell_type": "code",
      "source": [
        "labels"
      ],
      "metadata": {
        "colab": {
          "base_uri": "https://localhost:8080/"
        },
        "id": "uzX4elMWyoxQ",
        "outputId": "5b4fd389-ccde-440c-aafb-f98e34ae1e12"
      },
      "execution_count": null,
      "outputs": [
        {
          "output_type": "execute_result",
          "data": {
            "text/plain": [
              "array([0, 0, 0, 0, 0, 0, 0, 0, 0, 0, 0, 0, 0, 0, 0, 0, 0, 0, 0, 0, 0, 0,\n",
              "       0, 0, 0, 0, 0, 0, 0, 0, 0, 0, 0, 0, 0, 0, 0, 0, 0, 0, 0, 0, 0, 0,\n",
              "       0, 0, 0, 0, 0, 0, 0, 0, 0, 0, 0, 0, 0, 0, 0, 0, 0, 0, 0, 0, 0, 0,\n",
              "       0, 0, 0, 0, 0, 0, 0, 0, 0, 0, 0, 0, 0, 0, 0, 0, 0, 0, 0, 0, 0, 0,\n",
              "       0, 0, 0, 0, 0, 0, 0, 0, 0, 0, 0, 0, 0, 0, 0, 0, 0, 0, 0, 0, 0, 0,\n",
              "       0, 0, 0, 0, 0, 0, 0, 0, 0, 0, 0, 0, 0, 0, 0, 0, 0, 0, 0, 0, 0, 0,\n",
              "       0, 0, 0, 0, 0, 0, 0, 0, 0, 0, 0, 0, 0, 0, 0, 0, 0, 0, 0, 0, 0, 0,\n",
              "       0, 0, 0, 0, 0, 0, 0, 0, 0, 0, 0, 0, 0, 0, 0, 0, 0, 0, 0, 0, 0, 0,\n",
              "       0, 0, 0, 0, 0, 0, 0, 0, 0, 0, 0, 0, 0, 0, 0, 0, 0, 0, 0, 0, 0, 0,\n",
              "       0, 0, 0, 0, 0, 0, 0, 0, 0, 0, 0, 0, 0, 0, 0, 0, 0, 0, 0, 0, 0, 0,\n",
              "       0, 0, 0, 0, 0, 0, 0, 0, 0, 0, 0, 0, 0, 0, 0, 0, 0, 0, 0, 0, 0, 0,\n",
              "       0, 0, 0, 0, 0, 0, 0, 0, 0, 0, 0, 0, 0, 0, 0, 0, 0, 0, 0, 0, 0, 0,\n",
              "       0, 0, 0, 0, 0, 0, 0, 0, 0, 0, 0, 0, 0, 0, 0, 0, 0, 0, 0, 0, 0, 0,\n",
              "       0, 0, 0, 0, 0, 0, 0, 0, 0, 0, 0, 0, 0, 0, 0, 0, 0, 0, 0, 0, 0, 0,\n",
              "       0, 0, 0, 0, 0, 0, 0, 0, 0, 0, 0, 0, 0, 0, 0, 0, 0, 0, 0, 0, 0, 0,\n",
              "       0, 0, 0, 0, 0, 0, 0, 0, 0, 0, 0, 0, 0, 0, 0, 0, 0, 0, 0, 0, 0, 0,\n",
              "       0, 0, 0, 0, 0, 0, 0, 0, 0, 0, 0, 0, 0, 0, 0, 0, 0, 0, 0, 0, 0, 0,\n",
              "       0, 0, 0, 0, 0, 0, 0, 0, 0, 0, 0, 0, 0, 0, 0, 0, 0, 0, 0, 0, 0, 0,\n",
              "       0, 0, 0, 0, 1, 1, 1, 1, 1, 1, 1, 1, 1, 1, 1, 1, 1, 1, 1, 1, 1, 1,\n",
              "       1, 1, 1, 1, 1, 1, 1, 1, 1, 1, 1, 1, 1, 1, 1, 1, 1, 1, 1, 1, 1, 1,\n",
              "       1, 1, 1, 1, 1, 1, 1, 1, 1, 1, 1, 1, 1, 1, 1, 1, 1, 1, 1, 1, 1, 1,\n",
              "       1, 1, 1, 1, 1, 1, 1, 1, 1, 1, 1, 1, 1, 1, 1, 1, 1, 1, 1, 1, 1, 1,\n",
              "       1, 1, 1, 1, 1, 1, 1, 1, 1, 1, 1, 1, 1, 1, 1, 1, 1, 1, 1, 1, 1, 1,\n",
              "       1, 1, 1, 1, 1, 1, 1, 1, 1, 1, 1, 1, 1, 1, 1, 1, 1, 1, 1, 1, 1, 1,\n",
              "       1, 1, 1, 1, 1, 1, 1, 1, 1, 1, 1, 1, 1, 1, 1, 1, 1, 1, 1, 1, 1, 1,\n",
              "       1, 1, 1, 1, 1, 1, 1, 1, 1, 1, 1, 1, 1, 1, 1, 1, 1, 1, 1, 1, 1, 1,\n",
              "       1, 1, 1, 1, 1, 1, 1, 1, 1, 1, 1, 1, 1, 1, 1, 1, 1, 1, 1, 1, 1, 1,\n",
              "       1, 1, 1, 1, 1, 1, 1, 1, 1, 1, 1, 1, 1, 1, 1, 1, 1, 1, 1, 1, 1, 1,\n",
              "       1, 1, 1, 1, 1, 1, 1, 1, 1, 1, 1, 1, 1, 1, 1, 1, 1, 1, 1, 1, 1, 1,\n",
              "       1, 1, 1, 1, 1, 1, 1, 1, 1, 1, 1, 1, 1, 1, 1, 1, 1, 1, 1, 1, 1, 1,\n",
              "       1, 1, 1, 1, 1, 1, 1, 1, 1, 1, 1, 1, 1, 1, 1, 1, 1, 1, 1, 1, 1, 1,\n",
              "       1, 1, 1, 1, 1, 1, 1, 1, 1, 1, 1, 1, 1, 1, 1, 1, 1, 1, 1, 1, 1, 1,\n",
              "       1, 1, 1, 1, 1, 1, 1, 1, 1, 1, 1, 1, 1, 1, 1, 1, 1, 1, 1, 1, 1, 1,\n",
              "       1, 1, 1, 1, 1, 1, 1, 1, 1, 1, 1, 1, 1, 1, 1, 1, 1, 1, 1, 1, 1, 1,\n",
              "       1, 1, 1, 1, 1, 1, 1, 1, 1, 1, 1, 1, 1, 1, 1, 1, 1, 1, 1, 1, 1, 1,\n",
              "       1, 1, 1, 1, 1, 1, 1, 1, 1, 1, 1, 1, 1, 1, 1, 1, 1, 1, 1, 1, 1, 1,\n",
              "       1, 1, 1, 1, 1, 1, 1, 1, 1, 1, 1, 1, 1, 1, 1, 1, 1, 1, 1, 1, 1, 1,\n",
              "       1, 1, 1, 1, 1, 1, 1, 1, 1, 1, 1, 1, 1, 1])"
            ]
          },
          "metadata": {},
          "execution_count": 8
        }
      ]
    },
    {
      "cell_type": "code",
      "source": [
        "# Standardize the data\n",
        "scaler = StandardScaler()\n",
        "data_scaled = scaler.fit_transform(data_reshaped)\n"
      ],
      "metadata": {
        "id": "I7PiLcjxat1L"
      },
      "execution_count": null,
      "outputs": []
    },
    {
      "cell_type": "markdown",
      "source": [
        "**Apply PCA**"
      ],
      "metadata": {
        "id": "pOWalLM5bGHZ"
      }
    },
    {
      "cell_type": "code",
      "source": [
        "from sklearn.model_selection import train_test_split\n",
        "from sklearn.preprocessing import StandardScaler, LabelEncoder\n",
        "from sklearn.decomposition import PCA\n",
        "from sklearn import svm\n",
        "from sklearn.metrics import accuracy_score\n",
        "import matplotlib.pyplot as plt\n",
        "\n",
        "\n",
        "# Apply PCA to reduce dimensions while retaining 95% of variance\n",
        "pca = PCA(n_components=0.95)\n",
        "data_pca = pca.fit_transform(data_scaled)\n",
        "\n",
        "# Plotting the first 2 principal components\n",
        "plt.figure(figsize=(6, 4))\n",
        "for label in np.unique(labels):\n",
        "    indices = np.where(labels == label)\n",
        "    plt.scatter(data_pca[indices, 0], data_pca[indices, 1], label=f'Class {label}', alpha=0.8)\n",
        "plt.xlabel('Principal Component 1')\n",
        "plt.ylabel('Principal Component 2')\n",
        "plt.title('2D PCA of Bird vs Drone Dataset')\n",
        "plt.legend()\n",
        "plt.show()"
      ],
      "metadata": {
        "colab": {
          "base_uri": "https://localhost:8080/",
          "height": 410
        },
        "id": "uhobWdX2az9M",
        "outputId": "29b57721-7cb0-40fb-94cf-8d3457d79660"
      },
      "execution_count": null,
      "outputs": [
        {
          "output_type": "display_data",
          "data": {
            "text/plain": [
              "<Figure size 600x400 with 1 Axes>"
            ],
            "image/png": "[encoded data removed]"
          },
          "metadata": {}
        }
      ]
    },
    {
      "cell_type": "code",
      "source": [
        "pca = PCA()\n",
        "data_pca = pca.fit_transform(data_scaled)\n",
        "explained_variance_ratio = pca.explained_variance_ratio_\n",
        "cumulative_variance_ratio = np.cumsum(explained_variance_ratio)\n",
        "plt.figure(figsize=(8, 6))\n",
        "plt.bar(range(1, len(explained_variance_ratio) + 1), explained_variance_ratio, alpha=0.8, align='center',\n",
        "label='Individual explained variance')\n",
        "plt.step(range(1, len(cumulative_variance_ratio) + 1), cumulative_variance_ratio, where='mid',\n",
        "label='Cumulative explained variance')\n",
        "plt.xlabel('Principal component index')\n",
        "plt.ylabel('Explained variance ratio')\n",
        "plt.title('Explained Variance Ratio by Principal Component')\n",
        "plt.legend(loc='best')\n",
        "plt.show()\n",
        "threshold = 0.9\n",
        "num_components = np.argmax(cumulative_variance_ratio >= threshold) + 1\n",
        "print(f\"Number of components to retain 90% variance: {num_components}\")"
      ],
      "metadata": {
        "colab": {
          "base_uri": "https://localhost:8080/",
          "height": 581
        },
        "id": "X2ZrbEDFbKdH",
        "outputId": "6aee505f-796f-47e4-c946-6b8a95a9a457"
      },
      "execution_count": null,
      "outputs": [
        {
          "output_type": "display_data",
          "data": {
            "text/plain": [
              "<Figure size 800x600 with 1 Axes>"
            ],
            "image/png": "[encoded data removed]"
          },
          "metadata": {}
        },
        {
          "output_type": "stream",
          "name": "stdout",
          "text": [
            "Number of components to retain 90% variance: 75\n"
          ]
        }
      ]
    },
    {
      "cell_type": "markdown",
      "source": [
        "**Split the dataset into Train and Test**"
      ],
      "metadata": {
        "id": "C6AkdRVubkVi"
      }
    },
    {
      "cell_type": "code",
      "source": [
        "X_train, X_test, y_train, y_test = train_test_split(data_pca, labels, test_size=0.20, random_state=2)"
      ],
      "metadata": {
        "id": "Nh-z091Gbltb"
      },
      "execution_count": null,
      "outputs": []
    },
    {
      "cell_type": "markdown",
      "source": [
        "**Train SVM classifier**"
      ],
      "metadata": {
        "id": "Gt_yvNiAbrp5"
      }
    },
    {
      "cell_type": "code",
      "source": [
        "svclassifier = SVC(kernel='linear')\n",
        "svclassifier.fit(X_train, y_train)"
      ],
      "metadata": {
        "colab": {
          "base_uri": "https://localhost:8080/",
          "height": 74
        },
        "id": "f2Yvj4J1btdM",
        "outputId": "e44c9f7f-fa77-4dc3-f7af-4924490aca05"
      },
      "execution_count": null,
      "outputs": [
        {
          "output_type": "execute_result",
          "data": {
            "text/plain": [
              "SVC(kernel='linear')"
            ],
            "text/html": [
              "<style>#sk-container-id-1 {color: black;}#sk-container-id-1 pre{padding: 0;}#sk-container-id-1 div.sk-toggleable {background-color: white;}#sk-container-id-1 label.sk-toggleable__label {cursor: pointer;display: block;width: 100%;margin-bottom: 0;padding: 0.3em;box-sizing: border-box;text-align: center;}#sk-container-id-1 label.sk-toggleable__label-arrow:before {content: \"▸\";float: left;margin-right: 0.25em;color: #696969;}#sk-container-id-1 label.sk-toggleable__label-arrow:hover:before {color: black;}#sk-container-id-1 div.sk-estimator:hover label.sk-toggleable__label-arrow:before {color: black;}#sk-container-id-1 div.sk-toggleable__content {max-height: 0;max-width: 0;overflow: hidden;text-align: left;background-color: #f0f8ff;}#sk-container-id-1 div.sk-toggleable__content pre {margin: 0.2em;color: black;border-radius: 0.25em;background-color: #f0f8ff;}#sk-container-id-1 input.sk-toggleable__control:checked~div.sk-toggleable__content {max-height: 200px;max-width: 100%;overflow: auto;}#sk-container-id-1 input.sk-toggleable__control:checked~label.sk-toggleable__label-arrow:before {content: \"▾\";}#sk-container-id-1 div.sk-estimator input.sk-toggleable__control:checked~label.sk-toggleable__label {background-color: #d4ebff;}#sk-container-id-1 div.sk-label input.sk-toggleable__control:checked~label.sk-toggleable__label {background-color: #d4ebff;}#sk-container-id-1 input.sk-hidden--visually {border: 0;clip: rect(1px 1px 1px 1px);clip: rect(1px, 1px, 1px, 1px);height: 1px;margin: -1px;overflow: hidden;padding: 0;position: absolute;width: 1px;}#sk-container-id-1 div.sk-estimator {font-family: monospace;background-color: #f0f8ff;border: 1px dotted black;border-radius: 0.25em;box-sizing: border-box;margin-bottom: 0.5em;}#sk-container-id-1 div.sk-estimator:hover {background-color: #d4ebff;}#sk-container-id-1 div.sk-parallel-item::after {content: \"\";width: 100%;border-bottom: 1px solid gray;flex-grow: 1;}#sk-container-id-1 div.sk-label:hover label.sk-toggleable__label {background-color: #d4ebff;}#sk-container-id-1 div.sk-serial::before {content: \"\";position: absolute;border-left: 1px solid gray;box-sizing: border-box;top: 0;bottom: 0;left: 50%;z-index: 0;}#sk-container-id-1 div.sk-serial {display: flex;flex-direction: column;align-items: center;background-color: white;padding-right: 0.2em;padding-left: 0.2em;position: relative;}#sk-container-id-1 div.sk-item {position: relative;z-index: 1;}#sk-container-id-1 div.sk-parallel {display: flex;align-items: stretch;justify-content: center;background-color: white;position: relative;}#sk-container-id-1 div.sk-item::before, #sk-container-id-1 div.sk-parallel-item::before {content: \"\";position: absolute;border-left: 1px solid gray;box-sizing: border-box;top: 0;bottom: 0;left: 50%;z-index: -1;}#sk-container-id-1 div.sk-parallel-item {display: flex;flex-direction: column;z-index: 1;position: relative;background-color: white;}#sk-container-id-1 div.sk-parallel-item:first-child::after {align-self: flex-end;width: 50%;}#sk-container-id-1 div.sk-parallel-item:last-child::after {align-self: flex-start;width: 50%;}#sk-container-id-1 div.sk-parallel-item:only-child::after {width: 0;}#sk-container-id-1 div.sk-dashed-wrapped {border: 1px dashed gray;margin: 0 0.4em 0.5em 0.4em;box-sizing: border-box;padding-bottom: 0.4em;background-color: white;}#sk-container-id-1 div.sk-label label {font-family: monospace;font-weight: bold;display: inline-block;line-height: 1.2em;}#sk-container-id-1 div.sk-label-container {text-align: center;}#sk-container-id-1 div.sk-container {/* jupyter's `normalize.less` sets `[hidden] { display: none; }` but bootstrap.min.css set `[hidden] { display: none !important; }` so we also need the `!important` here to be able to override the default hidden behavior on the sphinx rendered scikit-learn.org. See: https://github.com/scikit-learn/scikit-learn/issues/21755 */display: inline-block !important;position: relative;}#sk-container-id-1 div.sk-text-repr-fallback {display: none;}</style><div id=\"sk-container-id-1\" class=\"sk-top-container\"><div class=\"sk-text-repr-fallback\"><pre>SVC(kernel=&#x27;linear&#x27;)</pre><b>In a Jupyter environment, please rerun this cell to show the HTML representation or trust the notebook. <br />On GitHub, the HTML representation is unable to render, please try loading this page with nbviewer.org.</b></div><div class=\"sk-container\" hidden><div class=\"sk-item\"><div class=\"sk-estimator sk-toggleable\"><input class=\"sk-toggleable__control sk-hidden--visually\" id=\"sk-estimator-id-1\" type=\"checkbox\" checked><label for=\"sk-estimator-id-1\" class=\"sk-toggleable__label sk-toggleable__label-arrow\">SVC</label><div class=\"sk-toggleable__content\"><pre>SVC(kernel=&#x27;linear&#x27;)</pre></div></div></div></div></div>"
            ]
          },
          "metadata": {},
          "execution_count": 13
        }
      ]
    },
    {
      "cell_type": "markdown",
      "source": [
        "**Predictions on Test Data**"
      ],
      "metadata": {
        "id": "-pepri5Obykq"
      }
    },
    {
      "cell_type": "code",
      "source": [
        "y_pred_svm = svclassifier.predict(X_test)\n",
        "print(classification_report(y_test, y_pred_svm))\n"
      ],
      "metadata": {
        "colab": {
          "base_uri": "https://localhost:8080/"
        },
        "id": "r4YIBGPdb6O5",
        "outputId": "de0b84bc-497f-4583-c325-0c7844c28b1a"
      },
      "execution_count": null,
      "outputs": [
        {
          "output_type": "stream",
          "name": "stdout",
          "text": [
            "              precision    recall  f1-score   support\n",
            "\n",
            "           0       0.67      0.72      0.69        81\n",
            "           1       0.71      0.67      0.69        85\n",
            "\n",
            "    accuracy                           0.69       166\n",
            "   macro avg       0.69      0.69      0.69       166\n",
            "weighted avg       0.69      0.69      0.69       166\n",
            "\n"
          ]
        }
      ]
    },
    {
      "cell_type": "markdown",
      "source": [
        "**Save the model**"
      ],
      "metadata": {
        "id": "v8SBiZ5kb-OR"
      }
    },
    {
      "cell_type": "code",
      "source": [
        "f = open(\"/content/model.cPickle\", \"wb\")\n",
        "f.write(cPickle.dumps(svclassifier))\n",
        "f.close()"
      ],
      "metadata": {
        "id": "MsBDM2GbclAn"
      },
      "execution_count": null,
      "outputs": []
    },
    {
      "cell_type": "markdown",
      "source": [
        "**Load the model**"
      ],
      "metadata": {
        "id": "OGnVFPvscoeN"
      }
    },
    {
      "cell_type": "code",
      "source": [
        "model = cPickle.loads(open('/content/model.cPickle', \"rb\").read())"
      ],
      "metadata": {
        "id": "hUn_E_KWcuRE"
      },
      "execution_count": null,
      "outputs": []
    },
    {
      "cell_type": "markdown",
      "source": [
        "**Prediction on a Sample Data**"
      ],
      "metadata": {
        "id": "C6fl8Tphc8QR"
      }
    },
    {
      "cell_type": "code",
      "source": [
        "test_imagePaths = list(paths.list_images('/content/BirdVsDrone/Drones'))\n"
      ],
      "metadata": {
        "id": "4tKVBvYAdDLC"
      },
      "execution_count": null,
      "outputs": []
    },
    {
      "cell_type": "code",
      "source": [
        "test_imagePaths"
      ],
      "metadata": {
        "colab": {
          "base_uri": "https://localhost:8080/"
        },
        "id": "MCZziryW_D2f",
        "outputId": "2f29243d-1644-4f0c-8e88-db5d7603b27d"
      },
      "execution_count": null,
      "outputs": [
        {
          "output_type": "execute_result",
          "data": {
            "text/plain": [
              "['/content/BirdVsDrone/Drones/44.JPEG',\n",
              " '/content/BirdVsDrone/Drones/video18_1133.JPEG',\n",
              " '/content/BirdVsDrone/Drones/singleDronesinsky77.jpeg',\n",
              " '/content/BirdVsDrone/Drones/foto00349.png',\n",
              " '/content/BirdVsDrone/Drones/yoto10789.png',\n",
              " '/content/BirdVsDrone/Drones/yoto05192.png',\n",
              " '/content/BirdVsDrone/Drones/25.JPEG',\n",
              " '/content/BirdVsDrone/Drones/yoto06468.png',\n",
              " '/content/BirdVsDrone/Drones/foto00262.png',\n",
              " '/content/BirdVsDrone/Drones/178.JPEG',\n",
              " '/content/BirdVsDrone/Drones/singleDronesinsky143.jpeg',\n",
              " '/content/BirdVsDrone/Drones/foto14414.png',\n",
              " '/content/BirdVsDrone/Drones/97.JPEG',\n",
              " '/content/BirdVsDrone/Drones/45.JPEG',\n",
              " '/content/BirdVsDrone/Drones/singleDronesinsky92.jpeg',\n",
              " '/content/BirdVsDrone/Drones/video14_140.JPEG',\n",
              " '/content/BirdVsDrone/Drones/90.JPEG',\n",
              " '/content/BirdVsDrone/Drones/19.JPEG',\n",
              " '/content/BirdVsDrone/Drones/195.JPEG',\n",
              " '/content/BirdVsDrone/Drones/48.JPEG',\n",
              " '/content/BirdVsDrone/Drones/yoto02930.png',\n",
              " '/content/BirdVsDrone/Drones/42.JPEG',\n",
              " '/content/BirdVsDrone/Drones/singleDronesinsky88.jpeg',\n",
              " '/content/BirdVsDrone/Drones/video16_506.JPEG',\n",
              " '/content/BirdVsDrone/Drones/68.JPEG',\n",
              " '/content/BirdVsDrone/Drones/141.JPEG',\n",
              " '/content/BirdVsDrone/Drones/150.JPEG',\n",
              " '/content/BirdVsDrone/Drones/yoto06497.png',\n",
              " '/content/BirdVsDrone/Drones/singleDronesinsky26.jpeg',\n",
              " '/content/BirdVsDrone/Drones/89.JPEG',\n",
              " '/content/BirdVsDrone/Drones/foto00204.png',\n",
              " '/content/BirdVsDrone/Drones/11.JPEG',\n",
              " '/content/BirdVsDrone/Drones/video14_40.JPEG',\n",
              " '/content/BirdVsDrone/Drones/23.JPEG',\n",
              " '/content/BirdVsDrone/Drones/117.JPEG',\n",
              " '/content/BirdVsDrone/Drones/214.JPEG',\n",
              " '/content/BirdVsDrone/Drones/singleDronesinsky74.jpeg',\n",
              " '/content/BirdVsDrone/Drones/20.JPEG',\n",
              " '/content/BirdVsDrone/Drones/74.JPEG',\n",
              " '/content/BirdVsDrone/Drones/singleDronesinsky38.jpeg',\n",
              " '/content/BirdVsDrone/Drones/4.JPEG',\n",
              " '/content/BirdVsDrone/Drones/103.JPEG',\n",
              " '/content/BirdVsDrone/Drones/singleDronesinsky258.jpeg',\n",
              " '/content/BirdVsDrone/Drones/singleDronesinsky106.jpeg',\n",
              " '/content/BirdVsDrone/Drones/video16_159.JPEG',\n",
              " '/content/BirdVsDrone/Drones/singleDronesinsky84.jpeg',\n",
              " '/content/BirdVsDrone/Drones/singleDronesinsky122.jpeg',\n",
              " '/content/BirdVsDrone/Drones/130.JPEG',\n",
              " '/content/BirdVsDrone/Drones/singleDronesinsky342.jpeg',\n",
              " '/content/BirdVsDrone/Drones/video14_88.JPEG',\n",
              " '/content/BirdVsDrone/Drones/202.JPEG',\n",
              " '/content/BirdVsDrone/Drones/279.JPEG',\n",
              " '/content/BirdVsDrone/Drones/singleDronesinsky175.jpeg',\n",
              " '/content/BirdVsDrone/Drones/115.JPEG',\n",
              " '/content/BirdVsDrone/Drones/278.JPEG',\n",
              " '/content/BirdVsDrone/Drones/211.JPEG',\n",
              " '/content/BirdVsDrone/Drones/137.JPEG',\n",
              " '/content/BirdVsDrone/Drones/280.JPEG',\n",
              " '/content/BirdVsDrone/Drones/foto14733.png',\n",
              " '/content/BirdVsDrone/Drones/126.JPEG',\n",
              " '/content/BirdVsDrone/Drones/86.JPEG',\n",
              " '/content/BirdVsDrone/Drones/singleDronesinsky118.jpeg',\n",
              " '/content/BirdVsDrone/Drones/7.JPEG',\n",
              " '/content/BirdVsDrone/Drones/yoto10818.png',\n",
              " '/content/BirdVsDrone/Drones/203.JPEG',\n",
              " '/content/BirdVsDrone/Drones/1.JPEG',\n",
              " '/content/BirdVsDrone/Drones/77.JPEG',\n",
              " '/content/BirdVsDrone/Drones/singleDronesinsky199.jpeg',\n",
              " '/content/BirdVsDrone/Drones/76.JPEG',\n",
              " '/content/BirdVsDrone/Drones/217.JPEG',\n",
              " '/content/BirdVsDrone/Drones/foto14356.png',\n",
              " '/content/BirdVsDrone/Drones/singleDronesinsky252.jpeg',\n",
              " '/content/BirdVsDrone/Drones/163.JPEG',\n",
              " '/content/BirdVsDrone/Drones/video16_697.JPEG',\n",
              " '/content/BirdVsDrone/Drones/148.JPEG',\n",
              " '/content/BirdVsDrone/Drones/singleDronesinsky243.jpeg',\n",
              " '/content/BirdVsDrone/Drones/100.JPEG',\n",
              " '/content/BirdVsDrone/Drones/singleDronesinsky15.jpeg',\n",
              " '/content/BirdVsDrone/Drones/foto00233.png',\n",
              " '/content/BirdVsDrone/Drones/singleDronesinsky375.jpeg',\n",
              " '/content/BirdVsDrone/Drones/singleDronesinsky131.jpeg',\n",
              " '/content/BirdVsDrone/Drones/singleDronesinsky177.jpeg',\n",
              " '/content/BirdVsDrone/Drones/singleDronesinsky21.jpeg',\n",
              " '/content/BirdVsDrone/Drones/95.JPEG',\n",
              " '/content/BirdVsDrone/Drones/singleDronesinsky10.jpeg',\n",
              " '/content/BirdVsDrone/Drones/245.JPEG',\n",
              " '/content/BirdVsDrone/Drones/101.JPEG',\n",
              " '/content/BirdVsDrone/Drones/167.JPEG',\n",
              " '/content/BirdVsDrone/Drones/281.JPEG',\n",
              " '/content/BirdVsDrone/Drones/282.JPEG',\n",
              " '/content/BirdVsDrone/Drones/singleDronesinsky260.jpeg',\n",
              " '/content/BirdVsDrone/Drones/video16_122.JPEG',\n",
              " '/content/BirdVsDrone/Drones/singleDronesinsky133.jpeg',\n",
              " '/content/BirdVsDrone/Drones/video14_34.JPEG',\n",
              " '/content/BirdVsDrone/Drones/104.JPEG',\n",
              " '/content/BirdVsDrone/Drones/singleDronesinsky89.jpeg',\n",
              " '/content/BirdVsDrone/Drones/singleDronesinsky309.jpeg',\n",
              " '/content/BirdVsDrone/Drones/singleDronesinsky339.jpeg',\n",
              " '/content/BirdVsDrone/Drones/291.JPEG',\n",
              " '/content/BirdVsDrone/Drones/8.JPEG',\n",
              " '/content/BirdVsDrone/Drones/120.JPEG',\n",
              " '/content/BirdVsDrone/Drones/singleDronesinsky138.jpeg',\n",
              " '/content/BirdVsDrone/Drones/video14_99.JPEG',\n",
              " '/content/BirdVsDrone/Drones/270.JPEG',\n",
              " '/content/BirdVsDrone/Drones/145.JPEG',\n",
              " '/content/BirdVsDrone/Drones/yoto10760.png',\n",
              " '/content/BirdVsDrone/Drones/singleDronesinsky96.jpeg',\n",
              " '/content/BirdVsDrone/Drones/singleDronesinsky248.jpeg',\n",
              " '/content/BirdVsDrone/Drones/263.JPEG',\n",
              " '/content/BirdVsDrone/Drones/singleDronesinsky351.jpeg',\n",
              " '/content/BirdVsDrone/Drones/82.JPEG',\n",
              " '/content/BirdVsDrone/Drones/43.JPEG',\n",
              " '/content/BirdVsDrone/Drones/119.JPEG',\n",
              " '/content/BirdVsDrone/Drones/foto14675.png',\n",
              " '/content/BirdVsDrone/Drones/260.JPEG',\n",
              " '/content/BirdVsDrone/Drones/54.JPEG',\n",
              " '/content/BirdVsDrone/Drones/21.JPEG',\n",
              " '/content/BirdVsDrone/Drones/yoto02872.png',\n",
              " '/content/BirdVsDrone/Drones/singleDronesinsky28.jpeg',\n",
              " '/content/BirdVsDrone/Drones/video14_119.JPEG',\n",
              " '/content/BirdVsDrone/Drones/56.JPEG',\n",
              " '/content/BirdVsDrone/Drones/foto07338.png',\n",
              " '/content/BirdVsDrone/Drones/152.JPEG',\n",
              " '/content/BirdVsDrone/Drones/219.JPEG',\n",
              " '/content/BirdVsDrone/Drones/singleDronesinsky23.jpeg',\n",
              " '/content/BirdVsDrone/Drones/105.JPEG',\n",
              " '/content/BirdVsDrone/Drones/foto14472.png',\n",
              " '/content/BirdVsDrone/Drones/foto14530.png',\n",
              " '/content/BirdVsDrone/Drones/foto14820.png',\n",
              " '/content/BirdVsDrone/Drones/singleDronesinsky348.jpeg',\n",
              " '/content/BirdVsDrone/Drones/79.JPEG',\n",
              " '/content/BirdVsDrone/Drones/singleDronesinsky19.jpeg',\n",
              " '/content/BirdVsDrone/Drones/video14_185.JPEG',\n",
              " '/content/BirdVsDrone/Drones/singleDronesinsky303.jpeg',\n",
              " '/content/BirdVsDrone/Drones/57.JPEG',\n",
              " '/content/BirdVsDrone/Drones/271.JPEG',\n",
              " '/content/BirdVsDrone/Drones/foto14559.png',\n",
              " '/content/BirdVsDrone/Drones/singleDronesinsky386.jpeg',\n",
              " '/content/BirdVsDrone/Drones/foto00320.png',\n",
              " '/content/BirdVsDrone/Drones/singleDronesinsky78.jpeg',\n",
              " '/content/BirdVsDrone/Drones/singleDronesinsky17.jpeg',\n",
              " '/content/BirdVsDrone/Drones/singleDronesinsky49.jpeg',\n",
              " '/content/BirdVsDrone/Drones/foto14617.png',\n",
              " '/content/BirdVsDrone/Drones/singleDronesinsky372.jpeg',\n",
              " '/content/BirdVsDrone/Drones/240.JPEG',\n",
              " '/content/BirdVsDrone/Drones/singleDronesinsky60.jpeg',\n",
              " '/content/BirdVsDrone/Drones/foto00291.png',\n",
              " '/content/BirdVsDrone/Drones/160.JPEG',\n",
              " '/content/BirdVsDrone/Drones/125.JPEG',\n",
              " '/content/BirdVsDrone/Drones/singleDronesinsky287.jpeg',\n",
              " '/content/BirdVsDrone/Drones/39.JPEG',\n",
              " '/content/BirdVsDrone/Drones/110.JPEG',\n",
              " '/content/BirdVsDrone/Drones/singleDronesinsky214.jpeg',\n",
              " '/content/BirdVsDrone/Drones/98.JPEG',\n",
              " '/content/BirdVsDrone/Drones/118.JPEG',\n",
              " '/content/BirdVsDrone/Drones/singleDronesinsky80.jpeg',\n",
              " '/content/BirdVsDrone/Drones/2.JPEG',\n",
              " '/content/BirdVsDrone/Drones/singleDronesinsky224.jpeg',\n",
              " '/content/BirdVsDrone/Drones/singleDronesinsky230.jpeg',\n",
              " '/content/BirdVsDrone/Drones/70.JPEG',\n",
              " '/content/BirdVsDrone/Drones/singleDronesinsky335.jpeg',\n",
              " '/content/BirdVsDrone/Drones/206.JPEG',\n",
              " '/content/BirdVsDrone/Drones/207.JPEG',\n",
              " '/content/BirdVsDrone/Drones/213.JPEG',\n",
              " '/content/BirdVsDrone/Drones/268.JPEG',\n",
              " '/content/BirdVsDrone/Drones/269.JPEG',\n",
              " '/content/BirdVsDrone/Drones/3.JPEG',\n",
              " '/content/BirdVsDrone/Drones/193.JPEG',\n",
              " '/content/BirdVsDrone/Drones/49.JPEG',\n",
              " '/content/BirdVsDrone/Drones/166.JPEG',\n",
              " '/content/BirdVsDrone/Drones/singleDronesinsky156.jpeg',\n",
              " '/content/BirdVsDrone/Drones/124.JPEG',\n",
              " '/content/BirdVsDrone/Drones/241.JPEG',\n",
              " '/content/BirdVsDrone/Drones/107.JPEG',\n",
              " '/content/BirdVsDrone/Drones/singleDronesinsky90.jpeg',\n",
              " '/content/BirdVsDrone/Drones/224.JPEG',\n",
              " '/content/BirdVsDrone/Drones/136.JPEG',\n",
              " '/content/BirdVsDrone/Drones/159.JPEG',\n",
              " '/content/BirdVsDrone/Drones/112.JPEG',\n",
              " '/content/BirdVsDrone/Drones/foto07367.png',\n",
              " '/content/BirdVsDrone/Drones/161.JPEG',\n",
              " '/content/BirdVsDrone/Drones/6.JPEG',\n",
              " '/content/BirdVsDrone/Drones/174.JPEG',\n",
              " '/content/BirdVsDrone/Drones/10.JPEG',\n",
              " '/content/BirdVsDrone/Drones/266.JPEG',\n",
              " '/content/BirdVsDrone/Drones/singleDronesinsky13.jpeg',\n",
              " '/content/BirdVsDrone/Drones/singleDronesinsky364.jpeg',\n",
              " '/content/BirdVsDrone/Drones/singleDronesinsky27.jpeg',\n",
              " '/content/BirdVsDrone/Drones/259.JPEG',\n",
              " '/content/BirdVsDrone/Drones/singleDronesinsky20.jpeg',\n",
              " '/content/BirdVsDrone/Drones/video16_571.JPEG',\n",
              " '/content/BirdVsDrone/Drones/singleDronesinsky58.jpeg',\n",
              " '/content/BirdVsDrone/Drones/singleDronesinsky66.jpeg',\n",
              " '/content/BirdVsDrone/Drones/91.JPEG',\n",
              " '/content/BirdVsDrone/Drones/93.JPEG',\n",
              " '/content/BirdVsDrone/Drones/128.JPEG',\n",
              " '/content/BirdVsDrone/Drones/foto07483.png',\n",
              " '/content/BirdVsDrone/Drones/30.JPEG',\n",
              " '/content/BirdVsDrone/Drones/singleDronesinsky291.jpeg',\n",
              " '/content/BirdVsDrone/Drones/246.JPEG',\n",
              " '/content/BirdVsDrone/Drones/249.JPEG',\n",
              " '/content/BirdVsDrone/Drones/yoto05134.png',\n",
              " '/content/BirdVsDrone/Drones/video14_120.JPEG',\n",
              " '/content/BirdVsDrone/Drones/video14_85.JPEG',\n",
              " '/content/BirdVsDrone/Drones/231.JPEG',\n",
              " '/content/BirdVsDrone/Drones/singleDronesinsky283.jpeg',\n",
              " '/content/BirdVsDrone/Drones/video18_1266.JPEG',\n",
              " '/content/BirdVsDrone/Drones/168.JPEG',\n",
              " '/content/BirdVsDrone/Drones/singleDronesinsky206.jpeg',\n",
              " '/content/BirdVsDrone/Drones/singleDronesinsky105.jpeg',\n",
              " '/content/BirdVsDrone/Drones/29.JPEG',\n",
              " '/content/BirdVsDrone/Drones/234.JPEG',\n",
              " '/content/BirdVsDrone/Drones/158.JPEG',\n",
              " '/content/BirdVsDrone/Drones/109.JPEG',\n",
              " '/content/BirdVsDrone/Drones/singleDronesinsky30.jpeg',\n",
              " '/content/BirdVsDrone/Drones/singleDronesinsky2.jpeg',\n",
              " '/content/BirdVsDrone/Drones/275.JPEG',\n",
              " '/content/BirdVsDrone/Drones/155.JPEG',\n",
              " '/content/BirdVsDrone/Drones/252.JPEG',\n",
              " '/content/BirdVsDrone/Drones/singleDronesinsky150.jpeg',\n",
              " '/content/BirdVsDrone/Drones/singleDronesinsky354.jpeg',\n",
              " '/content/BirdVsDrone/Drones/singleDronesinsky140.jpeg',\n",
              " '/content/BirdVsDrone/Drones/88.JPEG',\n",
              " '/content/BirdVsDrone/Drones/267.JPEG',\n",
              " '/content/BirdVsDrone/Drones/71.JPEG',\n",
              " '/content/BirdVsDrone/Drones/singleDronesinsky62.jpeg',\n",
              " '/content/BirdVsDrone/Drones/yoto10731.png',\n",
              " '/content/BirdVsDrone/Drones/190.JPEG',\n",
              " '/content/BirdVsDrone/Drones/183.JPEG',\n",
              " '/content/BirdVsDrone/Drones/foto07425.png',\n",
              " '/content/BirdVsDrone/Drones/yoto03046.png',\n",
              " '/content/BirdVsDrone/Drones/210.JPEG',\n",
              " '/content/BirdVsDrone/Drones/261.JPEG',\n",
              " '/content/BirdVsDrone/Drones/55.JPEG',\n",
              " '/content/BirdVsDrone/Drones/273.JPEG',\n",
              " '/content/BirdVsDrone/Drones/yoto05163.png',\n",
              " '/content/BirdVsDrone/Drones/230.JPEG',\n",
              " '/content/BirdVsDrone/Drones/220.JPEG',\n",
              " '/content/BirdVsDrone/Drones/singleDronesinsky148.jpeg',\n",
              " '/content/BirdVsDrone/Drones/video16_643.JPEG',\n",
              " '/content/BirdVsDrone/Drones/108.JPEG',\n",
              " '/content/BirdVsDrone/Drones/video14_80.JPEG',\n",
              " '/content/BirdVsDrone/Drones/151.JPEG',\n",
              " '/content/BirdVsDrone/Drones/singleDronesinsky54.jpeg',\n",
              " '/content/BirdVsDrone/Drones/72.JPEG',\n",
              " '/content/BirdVsDrone/Drones/singleDronesinsky168.jpeg',\n",
              " '/content/BirdVsDrone/Drones/67.JPEG',\n",
              " '/content/BirdVsDrone/Drones/58.JPEG',\n",
              " '/content/BirdVsDrone/Drones/164.JPEG',\n",
              " '/content/BirdVsDrone/Drones/60.JPEG',\n",
              " '/content/BirdVsDrone/Drones/36.JPEG',\n",
              " '/content/BirdVsDrone/Drones/singleDronesinsky200.jpeg',\n",
              " '/content/BirdVsDrone/Drones/181.JPEG',\n",
              " '/content/BirdVsDrone/Drones/233.JPEG',\n",
              " '/content/BirdVsDrone/Drones/165.JPEG',\n",
              " '/content/BirdVsDrone/Drones/foto14385.png',\n",
              " '/content/BirdVsDrone/Drones/video14_121.JPEG',\n",
              " '/content/BirdVsDrone/Drones/singleDronesinsky125.jpeg',\n",
              " '/content/BirdVsDrone/Drones/singleDronesinsky43.jpeg',\n",
              " '/content/BirdVsDrone/Drones/foto14849.png',\n",
              " '/content/BirdVsDrone/Drones/286.JPEG',\n",
              " '/content/BirdVsDrone/Drones/156.JPEG',\n",
              " '/content/BirdVsDrone/Drones/96.JPEG',\n",
              " '/content/BirdVsDrone/Drones/50.JPEG',\n",
              " '/content/BirdVsDrone/Drones/59.JPEG',\n",
              " '/content/BirdVsDrone/Drones/85.JPEG',\n",
              " '/content/BirdVsDrone/Drones/yoto05018.png',\n",
              " '/content/BirdVsDrone/Drones/84.JPEG',\n",
              " '/content/BirdVsDrone/Drones/284.JPEG',\n",
              " '/content/BirdVsDrone/Drones/singleDronesinsky358.jpeg',\n",
              " '/content/BirdVsDrone/Drones/237.JPEG',\n",
              " '/content/BirdVsDrone/Drones/singleDronesinsky50.jpeg',\n",
              " '/content/BirdVsDrone/Drones/274.JPEG',\n",
              " '/content/BirdVsDrone/Drones/73.JPEG',\n",
              " '/content/BirdVsDrone/Drones/111.JPEG',\n",
              " '/content/BirdVsDrone/Drones/200.JPEG',\n",
              " '/content/BirdVsDrone/Drones/236.JPEG',\n",
              " '/content/BirdVsDrone/Drones/video16_129.JPEG',\n",
              " '/content/BirdVsDrone/Drones/225.JPEG',\n",
              " '/content/BirdVsDrone/Drones/198.JPEG',\n",
              " '/content/BirdVsDrone/Drones/80.JPEG',\n",
              " '/content/BirdVsDrone/Drones/foto07396.png',\n",
              " '/content/BirdVsDrone/Drones/singleDronesinsky290.jpeg',\n",
              " '/content/BirdVsDrone/Drones/foto07454.png',\n",
              " '/content/BirdVsDrone/Drones/yoto02901.png',\n",
              " '/content/BirdVsDrone/Drones/180.JPEG',\n",
              " '/content/BirdVsDrone/Drones/singleDronesinsky235.jpeg',\n",
              " '/content/BirdVsDrone/Drones/222.JPEG',\n",
              " '/content/BirdVsDrone/Drones/singleDronesinsky381.jpeg',\n",
              " '/content/BirdVsDrone/Drones/singleDronesinsky5.jpeg',\n",
              " '/content/BirdVsDrone/Drones/258.JPEG',\n",
              " '/content/BirdVsDrone/Drones/188.JPEG',\n",
              " '/content/BirdVsDrone/Drones/63.JPEG',\n",
              " '/content/BirdVsDrone/Drones/247.JPEG',\n",
              " '/content/BirdVsDrone/Drones/132.JPEG',\n",
              " '/content/BirdVsDrone/Drones/226.JPEG',\n",
              " '/content/BirdVsDrone/Drones/223.JPEG',\n",
              " '/content/BirdVsDrone/Drones/singleDronesinsky16.jpeg',\n",
              " '/content/BirdVsDrone/Drones/157.JPEG',\n",
              " '/content/BirdVsDrone/Drones/26.JPEG',\n",
              " '/content/BirdVsDrone/Drones/102.JPEG',\n",
              " '/content/BirdVsDrone/Drones/75.JPEG',\n",
              " '/content/BirdVsDrone/Drones/287.JPEG',\n",
              " '/content/BirdVsDrone/Drones/singleDronesinsky181.jpeg',\n",
              " '/content/BirdVsDrone/Drones/40.JPEG',\n",
              " '/content/BirdVsDrone/Drones/singleDronesinsky173.jpeg',\n",
              " '/content/BirdVsDrone/Drones/283.JPEG',\n",
              " '/content/BirdVsDrone/Drones/video17_957.JPEG',\n",
              " '/content/BirdVsDrone/Drones/46.JPEG',\n",
              " '/content/BirdVsDrone/Drones/singleDronesinsky135.jpeg',\n",
              " '/content/BirdVsDrone/Drones/video17_728.JPEG',\n",
              " '/content/BirdVsDrone/Drones/242.JPEG',\n",
              " '/content/BirdVsDrone/Drones/video14_78.JPEG',\n",
              " '/content/BirdVsDrone/Drones/87.JPEG',\n",
              " '/content/BirdVsDrone/Drones/153.JPEG',\n",
              " '/content/BirdVsDrone/Drones/28.JPEG',\n",
              " '/content/BirdVsDrone/Drones/248.JPEG',\n",
              " '/content/BirdVsDrone/Drones/131.JPEG',\n",
              " '/content/BirdVsDrone/Drones/191.JPEG',\n",
              " '/content/BirdVsDrone/Drones/singleDronesinsky53.jpeg',\n",
              " '/content/BirdVsDrone/Drones/singleDronesinsky55.jpeg',\n",
              " '/content/BirdVsDrone/Drones/singleDronesinsky22.jpeg',\n",
              " '/content/BirdVsDrone/Drones/27.JPEG',\n",
              " '/content/BirdVsDrone/Drones/215.JPEG',\n",
              " '/content/BirdVsDrone/Drones/288.JPEG',\n",
              " '/content/BirdVsDrone/Drones/38.JPEG',\n",
              " '/content/BirdVsDrone/Drones/92.JPEG',\n",
              " '/content/BirdVsDrone/Drones/foto14646.png',\n",
              " '/content/BirdVsDrone/Drones/254.JPEG',\n",
              " '/content/BirdVsDrone/Drones/33.JPEG',\n",
              " '/content/BirdVsDrone/Drones/foto14791.png',\n",
              " '/content/BirdVsDrone/Drones/singleDronesinsky174.jpeg',\n",
              " '/content/BirdVsDrone/Drones/66.JPEG',\n",
              " '/content/BirdVsDrone/Drones/video14_93.JPEG',\n",
              " '/content/BirdVsDrone/Drones/32.JPEG',\n",
              " '/content/BirdVsDrone/Drones/239.JPEG',\n",
              " '/content/BirdVsDrone/Drones/foto14588.png',\n",
              " '/content/BirdVsDrone/Drones/127.JPEG',\n",
              " '/content/BirdVsDrone/Drones/singleDronesinsky7.jpeg',\n",
              " '/content/BirdVsDrone/Drones/264.JPEG',\n",
              " '/content/BirdVsDrone/Drones/singleDronesinsky29.jpeg',\n",
              " '/content/BirdVsDrone/Drones/272.JPEG',\n",
              " '/content/BirdVsDrone/Drones/212.JPEG',\n",
              " '/content/BirdVsDrone/Drones/182.JPEG',\n",
              " '/content/BirdVsDrone/Drones/singleDronesinsky286.jpeg',\n",
              " '/content/BirdVsDrone/Drones/277.JPEG',\n",
              " '/content/BirdVsDrone/Drones/singleDronesinsky124.jpeg',\n",
              " '/content/BirdVsDrone/Drones/185.JPEG',\n",
              " '/content/BirdVsDrone/Drones/229.JPEG',\n",
              " '/content/BirdVsDrone/Drones/singleDronesinsky14.jpeg',\n",
              " '/content/BirdVsDrone/Drones/singleDronesinsky218.jpeg',\n",
              " '/content/BirdVsDrone/Drones/243.JPEG',\n",
              " '/content/BirdVsDrone/Drones/227.JPEG',\n",
              " '/content/BirdVsDrone/Drones/81.JPEG',\n",
              " '/content/BirdVsDrone/Drones/singleDronesinsky139.jpeg',\n",
              " '/content/BirdVsDrone/Drones/singleDronesinsky238.jpeg',\n",
              " '/content/BirdVsDrone/Drones/34.JPEG',\n",
              " '/content/BirdVsDrone/Drones/foto00378.png',\n",
              " '/content/BirdVsDrone/Drones/singleDronesinsky11.jpeg',\n",
              " '/content/BirdVsDrone/Drones/123.JPEG',\n",
              " '/content/BirdVsDrone/Drones/290.JPEG',\n",
              " '/content/BirdVsDrone/Drones/244.JPEG',\n",
              " '/content/BirdVsDrone/Drones/51.JPEG',\n",
              " '/content/BirdVsDrone/Drones/257.JPEG',\n",
              " '/content/BirdVsDrone/Drones/singleDronesinsky221.jpeg',\n",
              " '/content/BirdVsDrone/Drones/singleDronesinsky9.jpeg',\n",
              " '/content/BirdVsDrone/Drones/208.JPEG',\n",
              " '/content/BirdVsDrone/Drones/142.JPEG',\n",
              " '/content/BirdVsDrone/Drones/62.JPEG',\n",
              " '/content/BirdVsDrone/Drones/5.JPEG',\n",
              " '/content/BirdVsDrone/Drones/video16_458.JPEG',\n",
              " '/content/BirdVsDrone/Drones/singleDronesinsky6.jpeg',\n",
              " '/content/BirdVsDrone/Drones/83.JPEG',\n",
              " '/content/BirdVsDrone/Drones/238.JPEG',\n",
              " '/content/BirdVsDrone/Drones/41.JPEG',\n",
              " '/content/BirdVsDrone/Drones/singleDronesinsky366.jpeg',\n",
              " '/content/BirdVsDrone/Drones/135.JPEG',\n",
              " '/content/BirdVsDrone/Drones/69.JPEG',\n",
              " '/content/BirdVsDrone/Drones/176.JPEG',\n",
              " '/content/BirdVsDrone/Drones/144.JPEG',\n",
              " '/content/BirdVsDrone/Drones/singleDronesinsky297.jpeg',\n",
              " '/content/BirdVsDrone/Drones/singleDronesinsky285.jpeg',\n",
              " '/content/BirdVsDrone/Drones/singleDronesinsky273.jpeg',\n",
              " '/content/BirdVsDrone/Drones/video18_665.JPEG',\n",
              " '/content/BirdVsDrone/Drones/250.JPEG',\n",
              " '/content/BirdVsDrone/Drones/289.JPEG',\n",
              " '/content/BirdVsDrone/Drones/140.JPEG',\n",
              " '/content/BirdVsDrone/Drones/video16_467.JPEG',\n",
              " '/content/BirdVsDrone/Drones/285.JPEG',\n",
              " '/content/BirdVsDrone/Drones/262.JPEG',\n",
              " '/content/BirdVsDrone/Drones/255.JPEG',\n",
              " '/content/BirdVsDrone/Drones/foto14878.png',\n",
              " '/content/BirdVsDrone/Drones/foto14762.png',\n",
              " '/content/BirdVsDrone/Drones/139.JPEG',\n",
              " '/content/BirdVsDrone/Drones/175.JPEG',\n",
              " '/content/BirdVsDrone/Drones/singleDronesinsky86.jpeg',\n",
              " '/content/BirdVsDrone/Drones/singleDronesinsky353.jpeg',\n",
              " '/content/BirdVsDrone/Drones/singleDronesinsky225.jpeg',\n",
              " '/content/BirdVsDrone/Drones/201.JPEG',\n",
              " '/content/BirdVsDrone/Drones/171.JPEG',\n",
              " '/content/BirdVsDrone/Drones/31.JPEG',\n",
              " '/content/BirdVsDrone/Drones/singleDronesinsky190.jpeg',\n",
              " '/content/BirdVsDrone/Drones/singleDronesinsky85.jpeg',\n",
              " '/content/BirdVsDrone/Drones/172.JPEG',\n",
              " '/content/BirdVsDrone/Drones/singleDronesinsky223.jpeg',\n",
              " '/content/BirdVsDrone/Drones/276.JPEG',\n",
              " '/content/BirdVsDrone/Drones/187.JPEG',\n",
              " '/content/BirdVsDrone/Drones/114.JPEG',\n",
              " '/content/BirdVsDrone/Drones/47.JPEG',\n",
              " '/content/BirdVsDrone/Drones/9.JPEG',\n",
              " '/content/BirdVsDrone/Drones/foto14443.png',\n",
              " '/content/BirdVsDrone/Drones/14.JPEG',\n",
              " '/content/BirdVsDrone/Drones/singleDronesinsky79.jpeg',\n",
              " '/content/BirdVsDrone/Drones/186.JPEG',\n",
              " '/content/BirdVsDrone/Drones/179.JPEG',\n",
              " '/content/BirdVsDrone/Drones/24.JPEG',\n",
              " '/content/BirdVsDrone/Drones/116.JPEG',\n",
              " '/content/BirdVsDrone/Drones/singleDronesinsky183.jpeg',\n",
              " '/content/BirdVsDrone/Drones/216.JPEG',\n",
              " '/content/BirdVsDrone/Drones/162.JPEG',\n",
              " '/content/BirdVsDrone/Drones/singleDronesinsky155.jpeg',\n",
              " '/content/BirdVsDrone/Drones/106.JPEG',\n",
              " '/content/BirdVsDrone/Drones/singleDronesinsky151.jpeg',\n",
              " '/content/BirdVsDrone/Drones/35.JPEG',\n",
              " '/content/BirdVsDrone/Drones/foto14501.png',\n",
              " '/content/BirdVsDrone/Drones/foto14704.png',\n",
              " '/content/BirdVsDrone/Drones/singleDronesinsky326.jpeg',\n",
              " '/content/BirdVsDrone/Drones/253.JPEG']"
            ]
          },
          "metadata": {},
          "execution_count": 18
        }
      ]
    },
    {
      "cell_type": "code",
      "source": [
        "from skimage.feature import hog\n",
        "from skimage.color import rgb2gray\n",
        "def resize_image(image, size=(64, 64)):\n",
        "    \"\"\"Resize the input image to a consistent size.\"\"\"\n",
        "    return cv2.resize(image, size)\n",
        "\n",
        "def extract_hog_features(image, hog_params):\n",
        "    \"\"\"Extract HOG (Histogram of Oriented Gradients) features from the image.\"\"\"\n",
        "    # Convert the image to grayscale (HOG expects grayscale input)\n",
        "    gray_image = rgb2gray(image)\n",
        "\n",
        "    # Extract HOG features\n",
        "    features, hog_image = hog(gray_image, **hog_params, visualize=True)\n",
        "    return features\n",
        "\n"
      ],
      "metadata": {
        "id": "le__wR_mde4p"
      },
      "execution_count": null,
      "outputs": []
    },
    {
      "cell_type": "code",
      "source": [
        "def predict_single_img(img_path, model, scaler, pca, hog_params):\n",
        "    # Load and preprocess the image\n",
        "    singleImage = cv2.imread(img_path)\n",
        "    singleImage = resize_image(singleImage)  # Ensure the image is resized consistently\n",
        "    print(f\"Resized Image Shape: {singleImage.shape}\")\n",
        "\n",
        "    # Extract HOG features\n",
        "    hist = extract_hog_features(singleImage, hog_params).reshape(1, -1)\n",
        "    print(f\"HOG Features Shape: {hist.shape}\")\n",
        "\n",
        "    # Display the image\n",
        "    plt.imshow(cv2.cvtColor(singleImage, cv2.COLOR_BGR2RGB))\n",
        "    plt.title('Input Image')\n",
        "    plt.show()\n",
        "\n",
        "    # Scale and apply PCA to the HOG features\n",
        "    hist_scaled = scaler.transform(hist)  # Use the fitted scaler\n",
        "    hist_pca = pca.transform(hist_scaled) # Use the fitted PCA\n",
        "\n",
        "    # Make a prediction\n",
        "    prediction = model.predict(hist_pca)\n",
        "    print(\"Prediction:\", prediction)\n"
      ],
      "metadata": {
        "id": "eKrUJ9lyjyoy"
      },
      "execution_count": null,
      "outputs": []
    },
    {
      "cell_type": "code",
      "source": [
        "hog_params = {\n",
        "    'orientations': 9,\n",
        "    'pixels_per_cell': (8, 8),\n",
        "    'cells_per_block': (2, 2),\n",
        "    'block_norm': 'L2-Hys'\n",
        "}\n"
      ],
      "metadata": {
        "id": "vwZmdInxjy1A"
      },
      "execution_count": null,
      "outputs": []
    },
    {
      "cell_type": "code",
      "source": [
        "predict_single_img(test_imagePaths[0], svclassifier, scaler, pca, hog_params)"
      ],
      "metadata": {
        "colab": {
          "base_uri": "https://localhost:8080/",
          "height": 756
        },
        "id": "cWO9eB5cd0nJ",
        "outputId": "cfeba68e-24ae-45eb-c32d-04ce548c9365"
      },
      "execution_count": null,
      "outputs": [
        {
          "output_type": "stream",
          "name": "stdout",
          "text": [
            "Resized Image Shape: (64, 64, 3)\n",
            "HOG Features Shape: (1, 1764)\n"
          ]
        },
        {
          "output_type": "display_data",
          "data": {
            "text/plain": [
              "<Figure size 640x480 with 1 Axes>"
            ],
            "image/png": "[encoded data removed]"
          },
          "metadata": {}
        },
        {
          "output_type": "error",
          "ename": "ValueError",
          "evalue": "X has 1764 features, but StandardScaler is expecting 12288 features as input.",
          "traceback": [
            "\u001b[0;31m---------------------------------------------------------------------------\u001b[0m",
            "\u001b[0;31mValueError\u001b[0m                                Traceback (most recent call last)",
            "\u001b[0;32m<ipython-input-80-8d00e2cb9beb>\u001b[0m in \u001b[0;36m<cell line: 1>\u001b[0;34m()\u001b[0m\n\u001b[0;32m----> 1\u001b[0;31m \u001b[0mpredict_single_img\u001b[0m\u001b[0;34m(\u001b[0m\u001b[0mtest_imagePaths\u001b[0m\u001b[0;34m[\u001b[0m\u001b[0;36m0\u001b[0m\u001b[0;34m]\u001b[0m\u001b[0;34m,\u001b[0m \u001b[0msvclassifier\u001b[0m\u001b[0;34m,\u001b[0m \u001b[0mscaler\u001b[0m\u001b[0;34m,\u001b[0m \u001b[0mpca\u001b[0m\u001b[0;34m,\u001b[0m \u001b[0mhog_params\u001b[0m\u001b[0;34m)\u001b[0m\u001b[0;34m\u001b[0m\u001b[0;34m\u001b[0m\u001b[0m\n\u001b[0m",
            "\u001b[0;32m<ipython-input-75-be4e4bf40946>\u001b[0m in \u001b[0;36mpredict_single_img\u001b[0;34m(img_path, model, scaler, pca, hog_params)\u001b[0m\n\u001b[1;32m     15\u001b[0m \u001b[0;34m\u001b[0m\u001b[0m\n\u001b[1;32m     16\u001b[0m     \u001b[0;31m# Scale and apply PCA to the HOG features\u001b[0m\u001b[0;34m\u001b[0m\u001b[0;34m\u001b[0m\u001b[0m\n\u001b[0;32m---> 17\u001b[0;31m     \u001b[0mhist_scaled\u001b[0m \u001b[0;34m=\u001b[0m \u001b[0mscaler\u001b[0m\u001b[0;34m.\u001b[0m\u001b[0mtransform\u001b[0m\u001b[0;34m(\u001b[0m\u001b[0mhist\u001b[0m\u001b[0;34m)\u001b[0m  \u001b[0;31m# Use the fitted scaler\u001b[0m\u001b[0;34m\u001b[0m\u001b[0;34m\u001b[0m\u001b[0m\n\u001b[0m\u001b[1;32m     18\u001b[0m     \u001b[0mhist_pca\u001b[0m \u001b[0;34m=\u001b[0m \u001b[0mpca\u001b[0m\u001b[0;34m.\u001b[0m\u001b[0mtransform\u001b[0m\u001b[0;34m(\u001b[0m\u001b[0mhist_scaled\u001b[0m\u001b[0;34m)\u001b[0m \u001b[0;31m# Use the fitted PCA\u001b[0m\u001b[0;34m\u001b[0m\u001b[0;34m\u001b[0m\u001b[0m\n\u001b[1;32m     19\u001b[0m \u001b[0;34m\u001b[0m\u001b[0m\n",
            "\u001b[0;32m/usr/local/lib/python3.10/dist-packages/sklearn/utils/_set_output.py\u001b[0m in \u001b[0;36mwrapped\u001b[0;34m(self, X, *args, **kwargs)\u001b[0m\n\u001b[1;32m    155\u001b[0m     \u001b[0;34m@\u001b[0m\u001b[0mwraps\u001b[0m\u001b[0;34m(\u001b[0m\u001b[0mf\u001b[0m\u001b[0;34m)\u001b[0m\u001b[0;34m\u001b[0m\u001b[0;34m\u001b[0m\u001b[0m\n\u001b[1;32m    156\u001b[0m     \u001b[0;32mdef\u001b[0m \u001b[0mwrapped\u001b[0m\u001b[0;34m(\u001b[0m\u001b[0mself\u001b[0m\u001b[0;34m,\u001b[0m \u001b[0mX\u001b[0m\u001b[0;34m,\u001b[0m \u001b[0;34m*\u001b[0m\u001b[0margs\u001b[0m\u001b[0;34m,\u001b[0m \u001b[0;34m**\u001b[0m\u001b[0mkwargs\u001b[0m\u001b[0;34m)\u001b[0m\u001b[0;34m:\u001b[0m\u001b[0;34m\u001b[0m\u001b[0;34m\u001b[0m\u001b[0m\n\u001b[0;32m--> 157\u001b[0;31m         \u001b[0mdata_to_wrap\u001b[0m \u001b[0;34m=\u001b[0m \u001b[0mf\u001b[0m\u001b[0;34m(\u001b[0m\u001b[0mself\u001b[0m\u001b[0;34m,\u001b[0m \u001b[0mX\u001b[0m\u001b[0;34m,\u001b[0m \u001b[0;34m*\u001b[0m\u001b[0margs\u001b[0m\u001b[0;34m,\u001b[0m \u001b[0;34m**\u001b[0m\u001b[0mkwargs\u001b[0m\u001b[0;34m)\u001b[0m\u001b[0;34m\u001b[0m\u001b[0;34m\u001b[0m\u001b[0m\n\u001b[0m\u001b[1;32m    158\u001b[0m         \u001b[0;32mif\u001b[0m \u001b[0misinstance\u001b[0m\u001b[0;34m(\u001b[0m\u001b[0mdata_to_wrap\u001b[0m\u001b[0;34m,\u001b[0m \u001b[0mtuple\u001b[0m\u001b[0;34m)\u001b[0m\u001b[0;34m:\u001b[0m\u001b[0;34m\u001b[0m\u001b[0;34m\u001b[0m\u001b[0m\n\u001b[1;32m    159\u001b[0m             \u001b[0;31m# only wrap the first output for cross decomposition\u001b[0m\u001b[0;34m\u001b[0m\u001b[0;34m\u001b[0m\u001b[0m\n",
            "\u001b[0;32m/usr/local/lib/python3.10/dist-packages/sklearn/preprocessing/_data.py\u001b[0m in \u001b[0;36mtransform\u001b[0;34m(self, X, copy)\u001b[0m\n\u001b[1;32m   1004\u001b[0m \u001b[0;34m\u001b[0m\u001b[0m\n\u001b[1;32m   1005\u001b[0m         \u001b[0mcopy\u001b[0m \u001b[0;34m=\u001b[0m \u001b[0mcopy\u001b[0m \u001b[0;32mif\u001b[0m \u001b[0mcopy\u001b[0m \u001b[0;32mis\u001b[0m \u001b[0;32mnot\u001b[0m \u001b[0;32mNone\u001b[0m \u001b[0;32melse\u001b[0m \u001b[0mself\u001b[0m\u001b[0;34m.\u001b[0m\u001b[0mcopy\u001b[0m\u001b[0;34m\u001b[0m\u001b[0;34m\u001b[0m\u001b[0m\n\u001b[0;32m-> 1006\u001b[0;31m         X = self._validate_data(\n\u001b[0m\u001b[1;32m   1007\u001b[0m             \u001b[0mX\u001b[0m\u001b[0;34m,\u001b[0m\u001b[0;34m\u001b[0m\u001b[0;34m\u001b[0m\u001b[0m\n\u001b[1;32m   1008\u001b[0m             \u001b[0mreset\u001b[0m\u001b[0;34m=\u001b[0m\u001b[0;32mFalse\u001b[0m\u001b[0;34m,\u001b[0m\u001b[0;34m\u001b[0m\u001b[0;34m\u001b[0m\u001b[0m\n",
            "\u001b[0;32m/usr/local/lib/python3.10/dist-packages/sklearn/base.py\u001b[0m in \u001b[0;36m_validate_data\u001b[0;34m(self, X, y, reset, validate_separately, cast_to_ndarray, **check_params)\u001b[0m\n\u001b[1;32m    624\u001b[0m \u001b[0;34m\u001b[0m\u001b[0m\n\u001b[1;32m    625\u001b[0m         \u001b[0;32mif\u001b[0m \u001b[0;32mnot\u001b[0m \u001b[0mno_val_X\u001b[0m \u001b[0;32mand\u001b[0m \u001b[0mcheck_params\u001b[0m\u001b[0;34m.\u001b[0m\u001b[0mget\u001b[0m\u001b[0;34m(\u001b[0m\u001b[0;34m\"ensure_2d\"\u001b[0m\u001b[0;34m,\u001b[0m \u001b[0;32mTrue\u001b[0m\u001b[0;34m)\u001b[0m\u001b[0;34m:\u001b[0m\u001b[0;34m\u001b[0m\u001b[0;34m\u001b[0m\u001b[0m\n\u001b[0;32m--> 626\u001b[0;31m             \u001b[0mself\u001b[0m\u001b[0;34m.\u001b[0m\u001b[0m_check_n_features\u001b[0m\u001b[0;34m(\u001b[0m\u001b[0mX\u001b[0m\u001b[0;34m,\u001b[0m \u001b[0mreset\u001b[0m\u001b[0;34m=\u001b[0m\u001b[0mreset\u001b[0m\u001b[0;34m)\u001b[0m\u001b[0;34m\u001b[0m\u001b[0;34m\u001b[0m\u001b[0m\n\u001b[0m\u001b[1;32m    627\u001b[0m \u001b[0;34m\u001b[0m\u001b[0m\n\u001b[1;32m    628\u001b[0m         \u001b[0;32mreturn\u001b[0m \u001b[0mout\u001b[0m\u001b[0;34m\u001b[0m\u001b[0;34m\u001b[0m\u001b[0m\n",
            "\u001b[0;32m/usr/local/lib/python3.10/dist-packages/sklearn/base.py\u001b[0m in \u001b[0;36m_check_n_features\u001b[0;34m(self, X, reset)\u001b[0m\n\u001b[1;32m    413\u001b[0m \u001b[0;34m\u001b[0m\u001b[0m\n\u001b[1;32m    414\u001b[0m         \u001b[0;32mif\u001b[0m \u001b[0mn_features\u001b[0m \u001b[0;34m!=\u001b[0m \u001b[0mself\u001b[0m\u001b[0;34m.\u001b[0m\u001b[0mn_features_in_\u001b[0m\u001b[0;34m:\u001b[0m\u001b[0;34m\u001b[0m\u001b[0;34m\u001b[0m\u001b[0m\n\u001b[0;32m--> 415\u001b[0;31m             raise ValueError(\n\u001b[0m\u001b[1;32m    416\u001b[0m                 \u001b[0;34mf\"X has {n_features} features, but {self.__class__.__name__} \"\u001b[0m\u001b[0;34m\u001b[0m\u001b[0;34m\u001b[0m\u001b[0m\n\u001b[1;32m    417\u001b[0m                 \u001b[0;34mf\"is expecting {self.n_features_in_} features as input.\"\u001b[0m\u001b[0;34m\u001b[0m\u001b[0;34m\u001b[0m\u001b[0m\n",
            "\u001b[0;31mValueError\u001b[0m: X has 1764 features, but StandardScaler is expecting 12288 features as input."
          ]
        }
      ]
    },
    {
      "cell_type": "markdown",
      "source": [
        "**Apply Neural Network**"
      ],
      "metadata": {
        "id": "N-Wxqr_igrTe"
      }
    },
    {
      "cell_type": "markdown",
      "source": [
        "**Designing a Neural Network Architecture**"
      ],
      "metadata": {
        "id": "lNi-XYbQ0M0I"
      }
    },
    {
      "cell_type": "code",
      "source": [
        "import tensorflow as tf\n",
        "import matplotlib.pyplot as plt\n",
        "# Set random seed\n",
        "tf.random.set_seed(42)\n",
        "\n",
        "model = tf.keras.Sequential([\n",
        "    tf.keras.layers.Dense(1024, activation='relu', input_shape=(X_train.shape[1],)),\n",
        "    tf.keras.layers.Dense(256, activation='relu'),\n",
        "    tf.keras.layers.Dense(128, activation='relu'),\n",
        "    tf.keras.layers.Dense(1, activation='sigmoid')\n",
        "])\n",
        "\n",
        "model.compile(\n",
        "    loss=tf.keras.losses.binary_crossentropy,\n",
        "    optimizer=tf.keras.optimizers.Adam(learning_rate=0.01),\n",
        "    metrics=['accuracy']\n",
        ")\n",
        "model.summary()"
      ],
      "metadata": {
        "colab": {
          "base_uri": "https://localhost:8080/",
          "height": 312
        },
        "id": "PqW03xBJ0Oao",
        "outputId": "6243175d-2475-43e5-a868-161e7cd52a5a"
      },
      "execution_count": null,
      "outputs": [
        {
          "output_type": "stream",
          "name": "stderr",
          "text": [
            "/usr/local/lib/python3.10/dist-packages/keras/src/layers/core/dense.py:87: UserWarning: Do not pass an `input_shape`/`input_dim` argument to a layer. When using Sequential models, prefer using an `Input(shape)` object as the first layer in the model instead.\n",
            "  super().__init__(activity_regularizer=activity_regularizer, **kwargs)\n"
          ]
        },
        {
          "output_type": "display_data",
          "data": {
            "text/plain": [
              "\u001b[1mModel: \"sequential\"\u001b[0m\n"
            ],
            "text/html": [
              "<pre style=\"white-space:pre;overflow-x:auto;line-height:normal;font-family:Menlo,'DejaVu Sans Mono',consolas,'Courier New',monospace\"><span style=\"font-weight: bold\">Model: \"sequential\"</span>\n",
              "</pre>\n"
            ]
          },
          "metadata": {}
        },
        {
          "output_type": "display_data",
          "data": {
            "text/plain": [
              "┏━━━━━━━━━━━━━━━━━━━━━━━━━━━━━━━━━━━━━━┳━━━━━━━━━━━━━━━━━━━━━━━━━━━━━┳━━━━━━━━━━━━━━━━━┓\n",
              "┃\u001b[1m \u001b[0m\u001b[1mLayer (type)                        \u001b[0m\u001b[1m \u001b[0m┃\u001b[1m \u001b[0m\u001b[1mOutput Shape               \u001b[0m\u001b[1m \u001b[0m┃\u001b[1m \u001b[0m\u001b[1m        Param #\u001b[0m\u001b[1m \u001b[0m┃\n",
              "┡━━━━━━━━━━━━━━━━━━━━━━━━━━━━━━━━━━━━━━╇━━━━━━━━━━━━━━━━━━━━━━━━━━━━━╇━━━━━━━━━━━━━━━━━┩\n",
              "│ dense (\u001b[38;5;33mDense\u001b[0m)                        │ (\u001b[38;5;45mNone\u001b[0m, \u001b[38;5;34m1024\u001b[0m)                │         \u001b[38;5;34m848,896\u001b[0m │\n",
              "├──────────────────────────────────────┼─────────────────────────────┼─────────────────┤\n",
              "│ dense_1 (\u001b[38;5;33mDense\u001b[0m)                      │ (\u001b[38;5;45mNone\u001b[0m, \u001b[38;5;34m256\u001b[0m)                 │         \u001b[38;5;34m262,400\u001b[0m │\n",
              "├──────────────────────────────────────┼─────────────────────────────┼─────────────────┤\n",
              "│ dense_2 (\u001b[38;5;33mDense\u001b[0m)                      │ (\u001b[38;5;45mNone\u001b[0m, \u001b[38;5;34m128\u001b[0m)                 │          \u001b[38;5;34m32,896\u001b[0m │\n",
              "├──────────────────────────────────────┼─────────────────────────────┼─────────────────┤\n",
              "│ dense_3 (\u001b[38;5;33mDense\u001b[0m)                      │ (\u001b[38;5;45mNone\u001b[0m, \u001b[38;5;34m1\u001b[0m)                   │             \u001b[38;5;34m129\u001b[0m │\n",
              "└──────────────────────────────────────┴─────────────────────────────┴─────────────────┘\n"
            ],
            "text/html": [
              "<pre style=\"white-space:pre;overflow-x:auto;line-height:normal;font-family:Menlo,'DejaVu Sans Mono',consolas,'Courier New',monospace\">┏━━━━━━━━━━━━━━━━━━━━━━━━━━━━━━━━━━━━━━┳━━━━━━━━━━━━━━━━━━━━━━━━━━━━━┳━━━━━━━━━━━━━━━━━┓\n",
              "┃<span style=\"font-weight: bold\"> Layer (type)                         </span>┃<span style=\"font-weight: bold\"> Output Shape                </span>┃<span style=\"font-weight: bold\">         Param # </span>┃\n",
              "┡━━━━━━━━━━━━━━━━━━━━━━━━━━━━━━━━━━━━━━╇━━━━━━━━━━━━━━━━━━━━━━━━━━━━━╇━━━━━━━━━━━━━━━━━┩\n",
              "│ dense (<span style=\"color: #0087ff; text-decoration-color: #0087ff\">Dense</span>)                        │ (<span style=\"color: #00d7ff; text-decoration-color: #00d7ff\">None</span>, <span style=\"color: #00af00; text-decoration-color: #00af00\">1024</span>)                │         <span style=\"color: #00af00; text-decoration-color: #00af00\">848,896</span> │\n",
              "├──────────────────────────────────────┼─────────────────────────────┼─────────────────┤\n",
              "│ dense_1 (<span style=\"color: #0087ff; text-decoration-color: #0087ff\">Dense</span>)                      │ (<span style=\"color: #00d7ff; text-decoration-color: #00d7ff\">None</span>, <span style=\"color: #00af00; text-decoration-color: #00af00\">256</span>)                 │         <span style=\"color: #00af00; text-decoration-color: #00af00\">262,400</span> │\n",
              "├──────────────────────────────────────┼─────────────────────────────┼─────────────────┤\n",
              "│ dense_2 (<span style=\"color: #0087ff; text-decoration-color: #0087ff\">Dense</span>)                      │ (<span style=\"color: #00d7ff; text-decoration-color: #00d7ff\">None</span>, <span style=\"color: #00af00; text-decoration-color: #00af00\">128</span>)                 │          <span style=\"color: #00af00; text-decoration-color: #00af00\">32,896</span> │\n",
              "├──────────────────────────────────────┼─────────────────────────────┼─────────────────┤\n",
              "│ dense_3 (<span style=\"color: #0087ff; text-decoration-color: #0087ff\">Dense</span>)                      │ (<span style=\"color: #00d7ff; text-decoration-color: #00d7ff\">None</span>, <span style=\"color: #00af00; text-decoration-color: #00af00\">1</span>)                   │             <span style=\"color: #00af00; text-decoration-color: #00af00\">129</span> │\n",
              "└──────────────────────────────────────┴─────────────────────────────┴─────────────────┘\n",
              "</pre>\n"
            ]
          },
          "metadata": {}
        },
        {
          "output_type": "display_data",
          "data": {
            "text/plain": [
              "\u001b[1m Total params: \u001b[0m\u001b[38;5;34m1,144,321\u001b[0m (4.37 MB)\n"
            ],
            "text/html": [
              "<pre style=\"white-space:pre;overflow-x:auto;line-height:normal;font-family:Menlo,'DejaVu Sans Mono',consolas,'Courier New',monospace\"><span style=\"font-weight: bold\"> Total params: </span><span style=\"color: #00af00; text-decoration-color: #00af00\">1,144,321</span> (4.37 MB)\n",
              "</pre>\n"
            ]
          },
          "metadata": {}
        },
        {
          "output_type": "display_data",
          "data": {
            "text/plain": [
              "\u001b[1m Trainable params: \u001b[0m\u001b[38;5;34m1,144,321\u001b[0m (4.37 MB)\n"
            ],
            "text/html": [
              "<pre style=\"white-space:pre;overflow-x:auto;line-height:normal;font-family:Menlo,'DejaVu Sans Mono',consolas,'Courier New',monospace\"><span style=\"font-weight: bold\"> Trainable params: </span><span style=\"color: #00af00; text-decoration-color: #00af00\">1,144,321</span> (4.37 MB)\n",
              "</pre>\n"
            ]
          },
          "metadata": {}
        },
        {
          "output_type": "display_data",
          "data": {
            "text/plain": [
              "\u001b[1m Non-trainable params: \u001b[0m\u001b[38;5;34m0\u001b[0m (0.00 B)\n"
            ],
            "text/html": [
              "<pre style=\"white-space:pre;overflow-x:auto;line-height:normal;font-family:Menlo,'DejaVu Sans Mono',consolas,'Courier New',monospace\"><span style=\"font-weight: bold\"> Non-trainable params: </span><span style=\"color: #00af00; text-decoration-color: #00af00\">0</span> (0.00 B)\n",
              "</pre>\n"
            ]
          },
          "metadata": {}
        }
      ]
    },
    {
      "cell_type": "code",
      "source": [
        "history = model.fit(X_train, y_train, epochs=25, verbose=1)\n",
        "\n",
        "def plot_history(history):\n",
        "    plt.figure(figsize=(12, 4))\n",
        "\n",
        "    plt.subplot(1, 2, 1)\n",
        "    plt.plot(history.history['loss'], label='Loss')\n",
        "    plt.xlabel('Epoch')\n",
        "    plt.ylabel('Loss')\n",
        "    plt.title('Loss over Epochs')\n",
        "    plt.legend()\n",
        "\n",
        "    plt.subplot(1, 2, 2)\n",
        "    plt.plot(history.history['accuracy'], label='Accuracy')\n",
        "    plt.xlabel('Epoch')\n",
        "    plt.ylabel('Accuracy')\n",
        "    plt.title('Accuracy over Epochs')\n",
        "    plt.legend()\n",
        "    plt.show()\n",
        "    plot_history(history)"
      ],
      "metadata": {
        "colab": {
          "base_uri": "https://localhost:8080/"
        },
        "id": "1pKWI4S20q50",
        "outputId": "f8528831-bb12-4ee5-bf98-ddc4c9324862"
      },
      "execution_count": null,
      "outputs": [
        {
          "output_type": "stream",
          "name": "stdout",
          "text": [
            "Epoch 1/25\n",
            "\u001b[1m21/21\u001b[0m \u001b[32m━━━━━━━━━━━━━━━━━━━━\u001b[0m\u001b[37m\u001b[0m \u001b[1m6s\u001b[0m 79ms/step - accuracy: 0.4666 - loss: 9.1345\n",
            "Epoch 2/25\n",
            "\u001b[1m21/21\u001b[0m \u001b[32m━━━━━━━━━━━━━━━━━━━━\u001b[0m\u001b[37m\u001b[0m \u001b[1m0s\u001b[0m 2ms/step - accuracy: 0.8140 - loss: 0.4227 \n",
            "Epoch 3/25\n",
            "\u001b[1m21/21\u001b[0m \u001b[32m━━━━━━━━━━━━━━━━━━━━\u001b[0m\u001b[37m\u001b[0m \u001b[1m0s\u001b[0m 2ms/step - accuracy: 0.9367 - loss: 0.1614  \n",
            "Epoch 4/25\n",
            "\u001b[1m21/21\u001b[0m \u001b[32m━━━━━━━━━━━━━━━━━━━━\u001b[0m\u001b[37m\u001b[0m \u001b[1m0s\u001b[0m 2ms/step - accuracy: 0.9766 - loss: 0.0528 \n",
            "Epoch 5/25\n",
            "\u001b[1m21/21\u001b[0m \u001b[32m━━━━━━━━━━━━━━━━━━━━\u001b[0m\u001b[37m\u001b[0m \u001b[1m0s\u001b[0m 2ms/step - accuracy: 0.9715 - loss: 0.1003 \n",
            "Epoch 6/25\n",
            "\u001b[1m21/21\u001b[0m \u001b[32m━━━━━━━━━━━━━━━━━━━━\u001b[0m\u001b[37m\u001b[0m \u001b[1m0s\u001b[0m 2ms/step - accuracy: 0.9356 - loss: 0.1493 \n",
            "Epoch 7/25\n",
            "\u001b[1m21/21\u001b[0m \u001b[32m━━━━━━━━━━━━━━━━━━━━\u001b[0m\u001b[37m\u001b[0m \u001b[1m0s\u001b[0m 2ms/step - accuracy: 0.9773 - loss: 0.0398  \n",
            "Epoch 8/25\n",
            "\u001b[1m21/21\u001b[0m \u001b[32m━━━━━━━━━━━━━━━━━━━━\u001b[0m\u001b[37m\u001b[0m \u001b[1m0s\u001b[0m 2ms/step - accuracy: 0.9930 - loss: 0.0152 \n",
            "Epoch 9/25\n",
            "\u001b[1m21/21\u001b[0m \u001b[32m━━━━━━━━━━━━━━━━━━━━\u001b[0m\u001b[37m\u001b[0m \u001b[1m0s\u001b[0m 2ms/step - accuracy: 0.9861 - loss: 0.0242  \n",
            "Epoch 10/25\n",
            "\u001b[1m21/21\u001b[0m \u001b[32m━━━━━━━━━━━━━━━━━━━━\u001b[0m\u001b[37m\u001b[0m \u001b[1m0s\u001b[0m 2ms/step - accuracy: 0.9833 - loss: 0.0474 \n",
            "Epoch 11/25\n",
            "\u001b[1m21/21\u001b[0m \u001b[32m━━━━━━━━━━━━━━━━━━━━\u001b[0m\u001b[37m\u001b[0m \u001b[1m0s\u001b[0m 2ms/step - accuracy: 0.9808 - loss: 0.0564 \n",
            "Epoch 12/25\n",
            "\u001b[1m21/21\u001b[0m \u001b[32m━━━━━━━━━━━━━━━━━━━━\u001b[0m\u001b[37m\u001b[0m \u001b[1m0s\u001b[0m 2ms/step - accuracy: 0.9933 - loss: 0.0173 \n",
            "Epoch 13/25\n",
            "\u001b[1m21/21\u001b[0m \u001b[32m━━━━━━━━━━━━━━━━━━━━\u001b[0m\u001b[37m\u001b[0m \u001b[1m0s\u001b[0m 2ms/step - accuracy: 0.9988 - loss: 0.0034     \n",
            "Epoch 14/25\n",
            "\u001b[1m21/21\u001b[0m \u001b[32m━━━━━━━━━━━━━━━━━━━━\u001b[0m\u001b[37m\u001b[0m \u001b[1m0s\u001b[0m 2ms/step - accuracy: 0.9943 - loss: 0.0097      \n",
            "Epoch 15/25\n",
            "\u001b[1m21/21\u001b[0m \u001b[32m━━━━━━━━━━━━━━━━━━━━\u001b[0m\u001b[37m\u001b[0m \u001b[1m0s\u001b[0m 2ms/step - accuracy: 0.9956 - loss: 0.0137 \n",
            "Epoch 16/25\n",
            "\u001b[1m21/21\u001b[0m \u001b[32m━━━━━━━━━━━━━━━━━━━━\u001b[0m\u001b[37m\u001b[0m \u001b[1m0s\u001b[0m 2ms/step - accuracy: 0.9931 - loss: 0.0246 \n",
            "Epoch 17/25\n",
            "\u001b[1m21/21\u001b[0m \u001b[32m━━━━━━━━━━━━━━━━━━━━\u001b[0m\u001b[37m\u001b[0m \u001b[1m0s\u001b[0m 2ms/step - accuracy: 0.9986 - loss: 0.0089 \n",
            "Epoch 18/25\n",
            "\u001b[1m21/21\u001b[0m \u001b[32m━━━━━━━━━━━━━━━━━━━━\u001b[0m\u001b[37m\u001b[0m \u001b[1m0s\u001b[0m 2ms/step - accuracy: 1.0000 - loss: 0.0012     \n",
            "Epoch 19/25\n",
            "\u001b[1m21/21\u001b[0m \u001b[32m━━━━━━━━━━━━━━━━━━━━\u001b[0m\u001b[37m\u001b[0m \u001b[1m0s\u001b[0m 2ms/step - accuracy: 1.0000 - loss: 3.6494e-04 \n",
            "Epoch 20/25\n",
            "\u001b[1m21/21\u001b[0m \u001b[32m━━━━━━━━━━━━━━━━━━━━\u001b[0m\u001b[37m\u001b[0m \u001b[1m0s\u001b[0m 2ms/step - accuracy: 1.0000 - loss: 2.0829e-04 \n",
            "Epoch 21/25\n",
            "\u001b[1m21/21\u001b[0m \u001b[32m━━━━━━━━━━━━━━━━━━━━\u001b[0m\u001b[37m\u001b[0m \u001b[1m0s\u001b[0m 2ms/step - accuracy: 1.0000 - loss: 1.4222e-04 \n",
            "Epoch 22/25\n",
            "\u001b[1m21/21\u001b[0m \u001b[32m━━━━━━━━━━━━━━━━━━━━\u001b[0m\u001b[37m\u001b[0m \u001b[1m0s\u001b[0m 2ms/step - accuracy: 1.0000 - loss: 1.0727e-04 \n",
            "Epoch 23/25\n",
            "\u001b[1m21/21\u001b[0m \u001b[32m━━━━━━━━━━━━━━━━━━━━\u001b[0m\u001b[37m\u001b[0m \u001b[1m0s\u001b[0m 2ms/step - accuracy: 1.0000 - loss: 8.5665e-05 \n",
            "Epoch 24/25\n",
            "\u001b[1m21/21\u001b[0m \u001b[32m━━━━━━━━━━━━━━━━━━━━\u001b[0m\u001b[37m\u001b[0m \u001b[1m0s\u001b[0m 2ms/step - accuracy: 1.0000 - loss: 7.0833e-05 \n",
            "Epoch 25/25\n",
            "\u001b[1m21/21\u001b[0m \u001b[32m━━━━━━━━━━━━━━━━━━━━\u001b[0m\u001b[37m\u001b[0m \u001b[1m0s\u001b[0m 2ms/step - accuracy: 1.0000 - loss: 5.9692e-05 \n"
          ]
        }
      ]
    },
    {
      "cell_type": "code",
      "source": [
        "predictions = model.predict(X_test)"
      ],
      "metadata": {
        "colab": {
          "base_uri": "https://localhost:8080/"
        },
        "id": "QdAq_jGh1emP",
        "outputId": "bec94810-6ec2-4ab9-cb17-cc659e3bd181"
      },
      "execution_count": null,
      "outputs": [
        {
          "output_type": "stream",
          "name": "stdout",
          "text": [
            "\u001b[1m6/6\u001b[0m \u001b[32m━━━━━━━━━━━━━━━━━━━━\u001b[0m\u001b[37m\u001b[0m \u001b[1m1s\u001b[0m 87ms/step\n"
          ]
        }
      ]
    },
    {
      "cell_type": "markdown",
      "source": [],
      "metadata": {
        "id": "LTinqjiR1eNi"
      }
    },
    {
      "cell_type": "code",
      "source": [
        "threshold = 0.5\n",
        "predictions = np.where(predictions >= threshold, 1, 0)"
      ],
      "metadata": {
        "id": "nAFMHftn1wQQ"
      },
      "execution_count": null,
      "outputs": []
    },
    {
      "cell_type": "code",
      "source": [
        "predictions"
      ],
      "metadata": {
        "colab": {
          "base_uri": "https://localhost:8080/"
        },
        "id": "30QEVjPk2FfR",
        "outputId": "893923c4-053e-4c2b-b8e7-d451fd95fa04"
      },
      "execution_count": null,
      "outputs": [
        {
          "output_type": "execute_result",
          "data": {
            "text/plain": [
              "array([[1],\n",
              "       [0],\n",
              "       [0],\n",
              "       [0],\n",
              "       [1],\n",
              "       [1],\n",
              "       [0],\n",
              "       [0],\n",
              "       [1],\n",
              "       [0],\n",
              "       [1],\n",
              "       [1],\n",
              "       [1],\n",
              "       [0],\n",
              "       [1],\n",
              "       [0],\n",
              "       [1],\n",
              "       [1],\n",
              "       [1],\n",
              "       [0],\n",
              "       [0],\n",
              "       [0],\n",
              "       [0],\n",
              "       [0],\n",
              "       [1],\n",
              "       [0],\n",
              "       [0],\n",
              "       [0],\n",
              "       [0],\n",
              "       [0],\n",
              "       [1],\n",
              "       [0],\n",
              "       [1],\n",
              "       [1],\n",
              "       [0],\n",
              "       [1],\n",
              "       [1],\n",
              "       [1],\n",
              "       [1],\n",
              "       [0],\n",
              "       [1],\n",
              "       [1],\n",
              "       [0],\n",
              "       [1],\n",
              "       [1],\n",
              "       [0],\n",
              "       [0],\n",
              "       [1],\n",
              "       [1],\n",
              "       [1],\n",
              "       [0],\n",
              "       [1],\n",
              "       [0],\n",
              "       [1],\n",
              "       [1],\n",
              "       [1],\n",
              "       [0],\n",
              "       [0],\n",
              "       [1],\n",
              "       [1],\n",
              "       [0],\n",
              "       [0],\n",
              "       [0],\n",
              "       [1],\n",
              "       [1],\n",
              "       [1],\n",
              "       [0],\n",
              "       [0],\n",
              "       [1],\n",
              "       [1],\n",
              "       [1],\n",
              "       [0],\n",
              "       [1],\n",
              "       [1],\n",
              "       [1],\n",
              "       [1],\n",
              "       [1],\n",
              "       [1],\n",
              "       [0],\n",
              "       [0],\n",
              "       [1],\n",
              "       [0],\n",
              "       [0],\n",
              "       [1],\n",
              "       [1],\n",
              "       [0],\n",
              "       [1],\n",
              "       [1],\n",
              "       [1],\n",
              "       [0],\n",
              "       [0],\n",
              "       [0],\n",
              "       [1],\n",
              "       [1],\n",
              "       [0],\n",
              "       [0],\n",
              "       [0],\n",
              "       [1],\n",
              "       [0],\n",
              "       [1],\n",
              "       [1],\n",
              "       [1],\n",
              "       [1],\n",
              "       [1],\n",
              "       [0],\n",
              "       [0],\n",
              "       [0],\n",
              "       [0],\n",
              "       [1],\n",
              "       [0],\n",
              "       [1],\n",
              "       [0],\n",
              "       [1],\n",
              "       [0],\n",
              "       [0],\n",
              "       [1],\n",
              "       [0],\n",
              "       [1],\n",
              "       [0],\n",
              "       [1],\n",
              "       [0],\n",
              "       [1],\n",
              "       [0],\n",
              "       [1],\n",
              "       [0],\n",
              "       [1],\n",
              "       [0],\n",
              "       [1],\n",
              "       [0],\n",
              "       [0],\n",
              "       [1],\n",
              "       [1],\n",
              "       [0],\n",
              "       [1],\n",
              "       [1],\n",
              "       [1],\n",
              "       [1],\n",
              "       [0],\n",
              "       [0],\n",
              "       [0],\n",
              "       [0],\n",
              "       [0],\n",
              "       [0],\n",
              "       [1],\n",
              "       [0],\n",
              "       [1],\n",
              "       [0],\n",
              "       [0],\n",
              "       [1],\n",
              "       [0],\n",
              "       [0],\n",
              "       [1],\n",
              "       [1],\n",
              "       [1],\n",
              "       [0],\n",
              "       [1],\n",
              "       [1],\n",
              "       [1],\n",
              "       [1],\n",
              "       [1],\n",
              "       [0],\n",
              "       [0],\n",
              "       [1],\n",
              "       [0],\n",
              "       [0],\n",
              "       [0]])"
            ]
          },
          "metadata": {},
          "execution_count": 91
        }
      ]
    },
    {
      "cell_type": "code",
      "source": [
        "print(classification_report(y_test, predictions))"
      ],
      "metadata": {
        "colab": {
          "base_uri": "https://localhost:8080/"
        },
        "id": "x0Xhajjs2LjZ",
        "outputId": "e8751b21-39c6-4715-b66e-e0ce15cc3c4b"
      },
      "execution_count": null,
      "outputs": [
        {
          "output_type": "stream",
          "name": "stdout",
          "text": [
            "              precision    recall  f1-score   support\n",
            "\n",
            "           0       0.78      0.77      0.77        81\n",
            "           1       0.78      0.79      0.78        85\n",
            "\n",
            "    accuracy                           0.78       166\n",
            "   macro avg       0.78      0.78      0.78       166\n",
            "weighted avg       0.78      0.78      0.78       166\n",
            "\n"
          ]
        }
      ]
    },
    {
      "cell_type": "markdown",
      "source": [
        "**Prediction on a Sample Data**"
      ],
      "metadata": {
        "id": "MIgnqgk62QAa"
      }
    },
    {
      "cell_type": "code",
      "source": [
        "y_pred_nn = model.predict(X_test)\n",
        "y_pred_nn = (y_pred_nn >= 0.5).astype(int).flatten()"
      ],
      "metadata": {
        "colab": {
          "base_uri": "https://localhost:8080/"
        },
        "id": "G-3L05supGuH",
        "outputId": "733689ce-cfd8-4c32-fee9-28dea353afc3"
      },
      "execution_count": null,
      "outputs": [
        {
          "output_type": "stream",
          "name": "stdout",
          "text": [
            "\u001b[1m6/6\u001b[0m \u001b[32m━━━━━━━━━━━━━━━━━━━━\u001b[0m\u001b[37m\u001b[0m \u001b[1m0s\u001b[0m 2ms/step \n"
          ]
        }
      ]
    },
    {
      "cell_type": "code",
      "source": [
        "test_imagePaths = list(paths.list_images('/content/BirdVsDrone/Birds'))"
      ],
      "metadata": {
        "id": "3JpDRnDT2NFQ"
      },
      "execution_count": null,
      "outputs": []
    },
    {
      "cell_type": "code",
      "source": [
        "def predict_single_img(img_path, model, scaler, pca, hog_params):\n",
        "    singleImage = cv2.imread(img_path)\n",
        "    singleImage = resize_image(singleImage)\n",
        "    print(singleImage.shape)\n",
        "    hist = extract_hog_features(singleImage, hog_params).reshape(1, -1)\n",
        "    print(hist.shape)\n",
        "    cv2_imshow(singleImage)\n",
        "    hist_scaled = scaler.transform(hist)\n",
        "    hist_pca = pca.transform(hist_scaled)\n",
        "\n",
        "    prediction = model.predict(hist_pca)\n",
        "    if prediction == 1:\n",
        "        print(\"Prediction: Rabbit\")\n",
        "    else:\n",
        "        print(\"Prediction: Cat\")"
      ],
      "metadata": {
        "id": "kqGoFKL72e-o"
      },
      "execution_count": null,
      "outputs": []
    },
    {
      "cell_type": "code",
      "source": [
        "predict_single_img(test_imagePaths[10], svclassifier, scaler, pca, hog_params)\n"
      ],
      "metadata": {
        "colab": {
          "base_uri": "https://localhost:8080/",
          "height": 449
        },
        "id": "uXD-JyBK210w",
        "outputId": "da57483d-cd14-4868-b2b5-9ab9099ee5fd"
      },
      "execution_count": null,
      "outputs": [
        {
          "output_type": "stream",
          "name": "stdout",
          "text": [
            "(128, 128, 3)\n",
            "(1, 8100)\n"
          ]
        },
        {
          "output_type": "display_data",
          "data": {
            "text/plain": [
              "<PIL.Image.Image image mode=RGB size=128x128>"
            ],
            "image/png": "[encoded data removed]",
            "image/jpeg": "[encoded data removed]"
          },
          "metadata": {}
        },
        {
          "output_type": "error",
          "ename": "NotFittedError",
          "evalue": "This StandardScaler instance is not fitted yet. Call 'fit' with appropriate arguments before using this estimator.",
          "traceback": [
            "\u001b[0;31m---------------------------------------------------------------------------\u001b[0m",
            "\u001b[0;31mNotFittedError\u001b[0m                            Traceback (most recent call last)",
            "\u001b[0;32m<ipython-input-96-be63da4d3791>\u001b[0m in \u001b[0;36m<cell line: 1>\u001b[0;34m()\u001b[0m\n\u001b[0;32m----> 1\u001b[0;31m \u001b[0mpredict_single_img\u001b[0m\u001b[0;34m(\u001b[0m\u001b[0mtest_imagePaths\u001b[0m\u001b[0;34m[\u001b[0m\u001b[0;36m10\u001b[0m\u001b[0;34m]\u001b[0m\u001b[0;34m,\u001b[0m \u001b[0msvclassifier\u001b[0m\u001b[0;34m,\u001b[0m \u001b[0mscaler\u001b[0m\u001b[0;34m,\u001b[0m \u001b[0mpca\u001b[0m\u001b[0;34m,\u001b[0m \u001b[0mhog_params\u001b[0m\u001b[0;34m)\u001b[0m\u001b[0;34m\u001b[0m\u001b[0;34m\u001b[0m\u001b[0m\n\u001b[0m",
            "\u001b[0;32m<ipython-input-95-ea82490fa229>\u001b[0m in \u001b[0;36mpredict_single_img\u001b[0;34m(img_path, model, scaler, pca, hog_params)\u001b[0m\n\u001b[1;32m      6\u001b[0m     \u001b[0mprint\u001b[0m\u001b[0;34m(\u001b[0m\u001b[0mhist\u001b[0m\u001b[0;34m.\u001b[0m\u001b[0mshape\u001b[0m\u001b[0;34m)\u001b[0m\u001b[0;34m\u001b[0m\u001b[0;34m\u001b[0m\u001b[0m\n\u001b[1;32m      7\u001b[0m     \u001b[0mcv2_imshow\u001b[0m\u001b[0;34m(\u001b[0m\u001b[0msingleImage\u001b[0m\u001b[0;34m)\u001b[0m\u001b[0;34m\u001b[0m\u001b[0;34m\u001b[0m\u001b[0m\n\u001b[0;32m----> 8\u001b[0;31m     \u001b[0mhist_scaled\u001b[0m \u001b[0;34m=\u001b[0m \u001b[0mscaler\u001b[0m\u001b[0;34m.\u001b[0m\u001b[0mtransform\u001b[0m\u001b[0;34m(\u001b[0m\u001b[0mhist\u001b[0m\u001b[0;34m)\u001b[0m\u001b[0;34m\u001b[0m\u001b[0;34m\u001b[0m\u001b[0m\n\u001b[0m\u001b[1;32m      9\u001b[0m     \u001b[0mhist_pca\u001b[0m \u001b[0;34m=\u001b[0m \u001b[0mpca\u001b[0m\u001b[0;34m.\u001b[0m\u001b[0mtransform\u001b[0m\u001b[0;34m(\u001b[0m\u001b[0mhist_scaled\u001b[0m\u001b[0;34m)\u001b[0m\u001b[0;34m\u001b[0m\u001b[0;34m\u001b[0m\u001b[0m\n\u001b[1;32m     10\u001b[0m \u001b[0;34m\u001b[0m\u001b[0m\n",
            "\u001b[0;32m/usr/local/lib/python3.10/dist-packages/sklearn/utils/_set_output.py\u001b[0m in \u001b[0;36mwrapped\u001b[0;34m(self, X, *args, **kwargs)\u001b[0m\n\u001b[1;32m    155\u001b[0m     \u001b[0;34m@\u001b[0m\u001b[0mwraps\u001b[0m\u001b[0;34m(\u001b[0m\u001b[0mf\u001b[0m\u001b[0;34m)\u001b[0m\u001b[0;34m\u001b[0m\u001b[0;34m\u001b[0m\u001b[0m\n\u001b[1;32m    156\u001b[0m     \u001b[0;32mdef\u001b[0m \u001b[0mwrapped\u001b[0m\u001b[0;34m(\u001b[0m\u001b[0mself\u001b[0m\u001b[0;34m,\u001b[0m \u001b[0mX\u001b[0m\u001b[0;34m,\u001b[0m \u001b[0;34m*\u001b[0m\u001b[0margs\u001b[0m\u001b[0;34m,\u001b[0m \u001b[0;34m**\u001b[0m\u001b[0mkwargs\u001b[0m\u001b[0;34m)\u001b[0m\u001b[0;34m:\u001b[0m\u001b[0;34m\u001b[0m\u001b[0;34m\u001b[0m\u001b[0m\n\u001b[0;32m--> 157\u001b[0;31m         \u001b[0mdata_to_wrap\u001b[0m \u001b[0;34m=\u001b[0m \u001b[0mf\u001b[0m\u001b[0;34m(\u001b[0m\u001b[0mself\u001b[0m\u001b[0;34m,\u001b[0m \u001b[0mX\u001b[0m\u001b[0;34m,\u001b[0m \u001b[0;34m*\u001b[0m\u001b[0margs\u001b[0m\u001b[0;34m,\u001b[0m \u001b[0;34m**\u001b[0m\u001b[0mkwargs\u001b[0m\u001b[0;34m)\u001b[0m\u001b[0;34m\u001b[0m\u001b[0;34m\u001b[0m\u001b[0m\n\u001b[0m\u001b[1;32m    158\u001b[0m         \u001b[0;32mif\u001b[0m \u001b[0misinstance\u001b[0m\u001b[0;34m(\u001b[0m\u001b[0mdata_to_wrap\u001b[0m\u001b[0;34m,\u001b[0m \u001b[0mtuple\u001b[0m\u001b[0;34m)\u001b[0m\u001b[0;34m:\u001b[0m\u001b[0;34m\u001b[0m\u001b[0;34m\u001b[0m\u001b[0m\n\u001b[1;32m    159\u001b[0m             \u001b[0;31m# only wrap the first output for cross decomposition\u001b[0m\u001b[0;34m\u001b[0m\u001b[0;34m\u001b[0m\u001b[0m\n",
            "\u001b[0;32m/usr/local/lib/python3.10/dist-packages/sklearn/preprocessing/_data.py\u001b[0m in \u001b[0;36mtransform\u001b[0;34m(self, X, copy)\u001b[0m\n\u001b[1;32m   1001\u001b[0m             \u001b[0mTransformed\u001b[0m \u001b[0marray\u001b[0m\u001b[0;34m.\u001b[0m\u001b[0;34m\u001b[0m\u001b[0;34m\u001b[0m\u001b[0m\n\u001b[1;32m   1002\u001b[0m         \"\"\"\n\u001b[0;32m-> 1003\u001b[0;31m         \u001b[0mcheck_is_fitted\u001b[0m\u001b[0;34m(\u001b[0m\u001b[0mself\u001b[0m\u001b[0;34m)\u001b[0m\u001b[0;34m\u001b[0m\u001b[0;34m\u001b[0m\u001b[0m\n\u001b[0m\u001b[1;32m   1004\u001b[0m \u001b[0;34m\u001b[0m\u001b[0m\n\u001b[1;32m   1005\u001b[0m         \u001b[0mcopy\u001b[0m \u001b[0;34m=\u001b[0m \u001b[0mcopy\u001b[0m \u001b[0;32mif\u001b[0m \u001b[0mcopy\u001b[0m \u001b[0;32mis\u001b[0m \u001b[0;32mnot\u001b[0m \u001b[0;32mNone\u001b[0m \u001b[0;32melse\u001b[0m \u001b[0mself\u001b[0m\u001b[0;34m.\u001b[0m\u001b[0mcopy\u001b[0m\u001b[0;34m\u001b[0m\u001b[0;34m\u001b[0m\u001b[0m\n",
            "\u001b[0;32m/usr/local/lib/python3.10/dist-packages/sklearn/utils/validation.py\u001b[0m in \u001b[0;36mcheck_is_fitted\u001b[0;34m(estimator, attributes, msg, all_or_any)\u001b[0m\n\u001b[1;32m   1459\u001b[0m \u001b[0;34m\u001b[0m\u001b[0m\n\u001b[1;32m   1460\u001b[0m     \u001b[0;32mif\u001b[0m \u001b[0;32mnot\u001b[0m \u001b[0m_is_fitted\u001b[0m\u001b[0;34m(\u001b[0m\u001b[0mestimator\u001b[0m\u001b[0;34m,\u001b[0m \u001b[0mattributes\u001b[0m\u001b[0;34m,\u001b[0m \u001b[0mall_or_any\u001b[0m\u001b[0;34m)\u001b[0m\u001b[0;34m:\u001b[0m\u001b[0;34m\u001b[0m\u001b[0;34m\u001b[0m\u001b[0m\n\u001b[0;32m-> 1461\u001b[0;31m         \u001b[0;32mraise\u001b[0m \u001b[0mNotFittedError\u001b[0m\u001b[0;34m(\u001b[0m\u001b[0mmsg\u001b[0m \u001b[0;34m%\u001b[0m \u001b[0;34m{\u001b[0m\u001b[0;34m\"name\"\u001b[0m\u001b[0;34m:\u001b[0m \u001b[0mtype\u001b[0m\u001b[0;34m(\u001b[0m\u001b[0mestimator\u001b[0m\u001b[0;34m)\u001b[0m\u001b[0;34m.\u001b[0m\u001b[0m__name__\u001b[0m\u001b[0;34m}\u001b[0m\u001b[0;34m)\u001b[0m\u001b[0;34m\u001b[0m\u001b[0;34m\u001b[0m\u001b[0m\n\u001b[0m\u001b[1;32m   1462\u001b[0m \u001b[0;34m\u001b[0m\u001b[0m\n\u001b[1;32m   1463\u001b[0m \u001b[0;34m\u001b[0m\u001b[0m\n",
            "\u001b[0;31mNotFittedError\u001b[0m: This StandardScaler instance is not fitted yet. Call 'fit' with appropriate arguments before using this estimator."
          ]
        }
      ]
    },
    {
      "cell_type": "code",
      "source": [
        "from sklearn.metrics import accuracy_score\n",
        "\n",
        "print(\"Comparative Analysis:\")\n",
        "print(\"\\nSVM Results:\")\n",
        "print(\"Accuracy:\", accuracy_score(y_test, y_pred_svm))\n",
        "print(\"Classification Report:\\n\", classification_report(y_test, y_pred_svm))\n",
        "\n",
        "print(\"\\nNeural Network Results:\")\n",
        "print(\"Accuracy:\", accuracy_score(y_test, y_pred_nn))\n",
        "print(\"Classification Report:\\n\", classification_report(y_test, y_pred_nn))"
      ],
      "metadata": {
        "colab": {
          "base_uri": "https://localhost:8080/"
        },
        "id": "iMrfzpxSkaqX",
        "outputId": "d258bd03-194e-4dc7-b766-03312adfc9de"
      },
      "execution_count": null,
      "outputs": [
        {
          "output_type": "stream",
          "name": "stdout",
          "text": [
            "Comparative Analysis:\n",
            "\n",
            "SVM Results:\n",
            "Accuracy: 0.6024096385542169\n",
            "Classification Report:\n",
            "               precision    recall  f1-score   support\n",
            "\n",
            "           0       0.59      0.63      0.61        81\n",
            "           1       0.62      0.58      0.60        85\n",
            "\n",
            "    accuracy                           0.60       166\n",
            "   macro avg       0.60      0.60      0.60       166\n",
            "weighted avg       0.60      0.60      0.60       166\n",
            "\n",
            "\n",
            "Neural Network Results:\n",
            "Accuracy: 0.7771084337349398\n",
            "Classification Report:\n",
            "               precision    recall  f1-score   support\n",
            "\n",
            "           0       0.78      0.77      0.77        81\n",
            "           1       0.78      0.79      0.78        85\n",
            "\n",
            "    accuracy                           0.78       166\n",
            "   macro avg       0.78      0.78      0.78       166\n",
            "weighted avg       0.78      0.78      0.78       166\n",
            "\n"
          ]
        }
      ]
    }
  ]
}